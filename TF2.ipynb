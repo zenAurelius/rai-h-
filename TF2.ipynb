{
  "cells": [
    {
      "cell_type": "markdown",
      "metadata": {
        "id": "view-in-github",
        "colab_type": "text"
      },
      "source": [
        "<a href=\"https://colab.research.google.com/github/zenAurelius/rai-h-/blob/master/TF2.ipynb\" target=\"_parent\"><img src=\"https://colab.research.google.com/assets/colab-badge.svg\" alt=\"Open In Colab\"/></a>"
      ]
    },
    {
      "cell_type": "code",
      "execution_count": null,
      "metadata": {
        "id": "uqvyDJDgg_TC"
      },
      "outputs": [],
      "source": [
        "# [x] https://www.tensorflow.org/tutorials/structured_data/imbalanced_data\n",
        "# [.] time series\n",
        "# [.] recomendation : un co avec son historique => recomend\n",
        "# [.] custom loss function : https://www.google.com/search?client=firefox-b-d&q=custom+loss+function+betting / \n",
        "# [.] Critère de Kelly : https://fr.wikipedia.org/wiki/Crit%C3%A8re_de_Kelly\n",
        "# [.] https://trueskill.org/\n",
        "# [.] Plusieurs dataset en entrée : https://stackoverflow.com/questions/63979750/input-multiple-datasets-to-tensorflow-model\n",
        "# [.] CNN non image : https://towardsdatascience.com/convolutional-neural-network-on-a-structured-bank-customer-data-358e6b8aa759\n",
        "# [.] https://keras.io/examples/keras_recipes/bayesian_neural_networks/\n",
        "# [.] https://en.wikipedia.org/wiki/Types_of_artificial_neural_networks\n",
        "# [.] https://github.com/iridiumblue/roc-star\n",
        "# [.] RL : https://towardsdatascience.com/deep-reinforcement-learning-for-automated-stock-trading-f1dad0126a02"
      ]
    },
    {
      "cell_type": "code",
      "execution_count": null,
      "metadata": {
        "colab": {
          "base_uri": "https://localhost:8080/",
          "height": 53
        },
        "id": "KBT0HwWFVgjF",
        "outputId": "33597861-f2c2-408d-a242-cd1778cf9861"
      },
      "outputs": [
        {
          "output_type": "stream",
          "name": "stdout",
          "text": [
            "Mounted at /content/drive\n"
          ]
        },
        {
          "output_type": "execute_result",
          "data": {
            "text/plain": [
              "'2.8.2'"
            ],
            "application/vnd.google.colaboratory.intrinsic+json": {
              "type": "string"
            }
          },
          "metadata": {},
          "execution_count": 1
        }
      ],
      "source": [
        "# SI ON EST SUR COLAB\n",
        "import pandas as pd\n",
        "import numpy as np\n",
        "import tensorflow as tf\n",
        "\n",
        "from tensorflow.keras import layers\n",
        "\n",
        "from google.colab import drive\n",
        "drive.mount('/content/drive')\n",
        "def topath(filename):\n",
        "    return f\"/content/drive/My Drive/HRAI/datas/{filename}\"\n",
        "\n",
        "tf.__version__"
      ]
    },
    {
      "cell_type": "code",
      "source": [
        "!cp /content/drive/MyDrive/Colab\\ Notebooks/utils.py /content\n",
        "import importlib\n",
        "import utils as utl"
      ],
      "metadata": {
        "id": "DCOlhZiwaQLB"
      },
      "execution_count": null,
      "outputs": []
    },
    {
      "cell_type": "code",
      "source": [
        "importlib.reload(utils)"
      ],
      "metadata": {
        "id": "_z7dD72o00hP"
      },
      "execution_count": null,
      "outputs": []
    },
    {
      "cell_type": "code",
      "execution_count": null,
      "metadata": {
        "id": "mIeYFPogYRZu"
      },
      "outputs": [],
      "source": [
        "# PLOTTERS\n",
        "import matplotlib as mpl\n",
        "import matplotlib.pyplot as plt\n",
        "import seaborn as sns\n",
        "from sklearn.metrics import confusion_matrix\n",
        "\n",
        "mpl.rcParams['figure.figsize'] = (12, 10)\n",
        "colors = plt.rcParams['axes.prop_cycle'].by_key()['color']\n",
        "\n",
        "# PLOT METRICS\n",
        "def plot_metrics(history):\n",
        "  metrics = ['loss', 'prc', 'precision', 'recall']\n",
        "  for n, metric in enumerate(metrics):\n",
        "    name = metric.replace(\"_\",\" \").capitalize()\n",
        "    plt.subplot(2,2,n+1)\n",
        "    plt.plot(history.epoch, history.history[metric], color=colors[0], label='Train')\n",
        "    if 'val_'+metric in history.history :\n",
        "      plt.plot(history.epoch, history.history['val_'+metric],color=colors[0], linestyle=\"--\", label='Val')\n",
        "    plt.xlabel('Epoch')\n",
        "    plt.ylabel(name)\n",
        "    if metric == 'loss':\n",
        "      plt.ylim([0, plt.ylim()[1]])\n",
        "    elif metric == 'auc':\n",
        "      plt.ylim([0.8,1])\n",
        "    else:\n",
        "      plt.ylim([0,1])\n",
        "\n",
        "    plt.legend();\n",
        "\n",
        "# PLOT CONFUSION MATRIX\n",
        "def plot_cm(labels, predictions, p=0.5):\n",
        "  cm = confusion_matrix(labels, predictions > p)\n",
        "  plt.figure(figsize=(5,5))\n",
        "  sns.heatmap(cm, annot=True, fmt=\"d\")\n",
        "  plt.title('Confusion matrix @{:.2f}'.format(p))\n",
        "  plt.ylabel('Actual label')\n",
        "  plt.xlabel('Predicted label')\n",
        "\n",
        "  print('PAS PLACE OK (True Negatives): ', cm[0][0])\n",
        "  print('PLACE KO (False Positives): ', cm[0][1])\n",
        "  print('PAS PLACE KO (False Negatives): ', cm[1][0])\n",
        "  print('PLACE OK (True Positives): ', cm[1][1])"
      ]
    },
    {
      "cell_type": "code",
      "execution_count": null,
      "metadata": {
        "id": "Mu0YDmeNRe2P"
      },
      "outputs": [],
      "source": [
        "# PRE PROCESSING LAYERS\n",
        "\n",
        "# NORMALIZATION\n",
        "def get_normalization_layer(name, ds = None, df = None):\n",
        "  # Create a Normalization layer for the feature.\n",
        "  normalizer = layers.Normalization(axis=None)\n",
        "\n",
        "  if ds is not None:\n",
        "    normalizer.adapt(ds.map(lambda x, y: x[name]))\n",
        "  elif df is not None:\n",
        "    normalizer.adapt(df[name])\n",
        "\n",
        "  return normalizer\n",
        "\n",
        "\n",
        "# CATEGORY ENCODING\n",
        "def get_category_encoding_layer(name, dtype, dataset=None, dataframe=None, max_tokens=None):\n",
        "  # Create a layer that turns strings into integer indices.\n",
        "  if dtype == 'string':\n",
        "    index = layers.StringLookup(max_tokens=max_tokens)\n",
        "  # Otherwise, create a layer that turns integer values into integer indices.\n",
        "  else:\n",
        "    index = layers.IntegerLookup(max_tokens=max_tokens)\n",
        "\n",
        "  # Prepare a `tf.data.Dataset` that only yields the feature.\n",
        "  if dataset is not None:\n",
        "    features = dataset.map(lambda x, y: x[name])\n",
        "  elif dataframe is not None:\n",
        "    features = dataframe[name]\n",
        "\n",
        "  # Learn the set of possible values and assign them a fixed integer index.\n",
        "  index.adapt(features)\n",
        "\n",
        "  # Encode the integer indices.\n",
        "  encoder = layers.CategoryEncoding(num_tokens=index.vocabulary_size())\n",
        "\n",
        "  # Apply multi-hot encoding to the indices. The lambda function captures the\n",
        "  # layer, so you can use them, or include them in the Keras Functional model later.\n",
        "  return lambda feature: encoder(index(feature))\n",
        "\n",
        "# CREATE INPUT LAYERS\n",
        "def create_input_layers(dataset=None, dataframe=None, cat_int_token=5, cat_str_token=5):\n",
        "  all_inputs = []\n",
        "  encoded_features = []\n",
        "  features_dict = {}\n",
        "\n",
        "  # Integer Index features.\n",
        "  for header in cat_int_cols:\n",
        "    cat_int_col = tf.keras.Input(shape=(1,), name=header, dtype='int64')\n",
        "    if dataset is not None:\n",
        "      encoding_layer = get_category_encoding_layer(name=header, dataset=dataset, dtype='int64', max_tokens=cat_int_token)\n",
        "    elif dataframe is not None:\n",
        "      encoding_layer = get_category_encoding_layer(name=header, dataframe=dataframe, dtype='int64', max_tokens=cat_int_token)\n",
        "      features_dict[header] = tf.convert_to_tensor(dataframe[header])\n",
        "    encoded_col = encoding_layer(cat_int_col)\n",
        "    all_inputs.append(cat_int_col)\n",
        "    encoded_features.append(encoded_col)\n",
        "\n",
        "  # Numerical features.\n",
        "  for header in numerical_cols:\n",
        "    numeric_col = tf.keras.Input(shape=(1,), name=header)\n",
        "    if dataset is not None:\n",
        "      normalization_layer = get_normalization_layer(header, ds=dataset)\n",
        "    elif dataframe is not None:\n",
        "      normalization_layer = get_normalization_layer(header, df=dataframe)\n",
        "      features_dict[header] = tf.convert_to_tensor(dataframe[header])\n",
        "    encoded_numeric_col = normalization_layer(numeric_col)\n",
        "    all_inputs.append(numeric_col)\n",
        "    encoded_features.append(encoded_numeric_col)\n",
        "\n",
        "  # String Index features.\n",
        "  for header in cat_str_cols:\n",
        "    cat_str_col = tf.keras.Input(shape=(1,), name=header, dtype='string')\n",
        "    if dataset is not None:\n",
        "      encoding_layer = get_category_encoding_layer(name=header, dataset=dataset, dtype='string', max_tokens=cat_str_token)\n",
        "    elif dataframe is not None:\n",
        "      encoding_layer = get_category_encoding_layer(name=header, dataframe=dataframe, dtype='string', max_tokens=cat_str_token)\n",
        "      features_dict[header] = tf.convert_to_tensor(dataframe[header])\n",
        "    encoded_col = encoding_layer(cat_str_col)\n",
        "    all_inputs.append(cat_str_col)\n",
        "    encoded_features.append(encoded_col)\n",
        "\n",
        "  return all_inputs, encoded_features, features_dict\n",
        "\n",
        "# TO TENSORS\n",
        "def to_tensors(data):\n",
        "  df = data.copy()\n",
        "  labels = df['TARGET'].astype('float32')\n",
        "  df = data.drop(columns=['TARGET'])\n",
        "  df_x = util.extract_x(df, features_cols) \n",
        "  return df_x,labels\n",
        "\n",
        "# DF TO DATASET\n",
        "def df_to_dataset(df_in, features_cols, shuffle=True, batch_size=32, targets_name=['TARGET']):\n",
        "  df = df_in.copy()\n",
        "  labels = df[targets_name]\n",
        "  df = df.drop(columns=targets_name)\n",
        "  df_x = utl.extract_x(df, features_cols)\n",
        "  ds = tf.data.Dataset.from_tensor_slices((dict(df_x), labels))\n",
        "  if shuffle:\n",
        "    ds = ds.shuffle(buffer_size=len(df_in))\n",
        "  ds = ds.batch(batch_size)\n",
        "  ds = ds.prefetch(batch_size)\n",
        "  return ds  \n",
        "  \n",
        "# TO DS\n",
        "def to_ds(data, features_cols, targets_name=['TARGET'], batch_size = 256) :\n",
        "  ds_trn = df_to_dataset(data['trn'], features_cols, targets_name=targets_name, batch_size=batch_size)\n",
        "  ds_tst = df_to_dataset(data['tst'], features_cols, targets_name=targets_name, shuffle=False, batch_size=batch_size)\n",
        "  if 'val' in data :\n",
        "    ds_val = df_to_dataset(data['val'], features_cols, targets_name=targets_name, shuffle=False, batch_size=batch_size)\n",
        "    return ds_trn, ds_val, ds_tst\n",
        "  else :\n",
        "    return ds_trn, ds_tst\n"
      ]
    },
    {
      "cell_type": "code",
      "execution_count": null,
      "metadata": {
        "id": "jDF0BuZ5tBJz"
      },
      "outputs": [],
      "source": [
        "# CALC GAINS COURSE\n",
        "def calc_gains_course(dr, predname='PROBA', seuil=0, filtre_name=None, filtre_seuil=0):\n",
        "  '''\n",
        "  Calcul les gains lorsque pour chaque course, on prend celui\n",
        "  dont la valeur de 'predname' est la plus forte et dépasse le seuil\n",
        "  '''\n",
        "  best = dr.sort_values(predname).drop_duplicates(['AID_CR'],keep='last')\n",
        "  joue_ia = best[best[predname] > seuil]\n",
        "  if filtre_name :\n",
        "    joue_ia = joue_ia[joue_ia[filtre_name] > filtre_seuil]\n",
        "  calc_gains(dr, joue_ia)\n",
        "\n",
        "\n",
        "# CALC GAINS JOUE\n",
        "def calc_gains_joue(dr, predname='PREDICTED', seuil=0):\n",
        "  '''\n",
        "  Calcul les gains lorsqu'on joue tout ceux dont le predicted > seuil\n",
        "  '''\n",
        "  joue_ia = dr[dr[predname] > seuil]\n",
        "  calc_gains(dr, joue_ia)\n",
        "\n",
        "# CALC GAINS\n",
        "def calc_gains(dr, joue_ia):\n",
        "  correct_g_ia = joue_ia[joue_ia.TG_WIN == 1]\n",
        "  correct_p_ia = joue_ia[joue_ia.TG_PLC == 1]\n",
        "\n",
        "  # pour comparaison, l'humain joue toujours le favori\n",
        "  joue_hu = dr[dr.PT_COTE_OD_RAW == 1]\n",
        "  correct_g_hu = joue_hu[joue_hu.TG_WIN == 1]\n",
        "  correct_p_hu = joue_hu[joue_hu.TG_PLC == 1]\n",
        "\n",
        "  # pour comparaison, god joue tout ceux qui gagnent\n",
        "  correct_g_go = dr[dr.TG_WIN ==1]\n",
        "  correct_p_go = dr[dr.TG_PLC ==1]\n",
        "\n",
        "  gain_g_ia = joue_ia.TG_PT_GAIN_W.sum()\n",
        "  gain_g_hu = joue_hu.TG_PT_GAIN_W.sum()\n",
        "  gain_g_go = correct_g_go.TG_PT_GAIN_W.sum()\n",
        "\n",
        "  gain_p_ia = joue_ia.TG_PT_GAIN_P.sum()\n",
        "  gain_p_hu = joue_hu.TG_PT_GAIN_P.sum()\n",
        "  gain_p_go = correct_p_go.TG_PT_GAIN_P.sum()\n",
        "\n",
        "  print('GAGNANT')\n",
        "  print(f\"{'':<10s}{'joués':>5s}{'corrects':>15s}{'% corrects':>15s}{'gains':>12s}{'roi':>12s}\")\n",
        "  if len(joue_ia) > 0 :\n",
        "    print(f\"{'ia':<10s}{len(joue_ia):>5}{len(correct_g_ia):>15}{100 * len(correct_g_ia) / len(joue_ia):>15.2f}{gain_g_ia:>12.2f}{100 * gain_g_ia / len(joue_ia):>12.2f}\")\n",
        "  print(f\"{'hu':<10s}{len(joue_hu):>5}{len(correct_g_hu):>15}{100 * len(correct_g_hu) / len(joue_hu):>15.2f}{gain_g_hu:>12.2f}{100 * gain_g_hu / len(joue_hu):>12.2f}\")\n",
        "  print('{:<10s}{:>5}{:>15}{:>15.2f}{:>12.2f}{:>12.2f}'.format('go',len(correct_g_go), len(correct_g_go), 100 * len(correct_g_go) / len(correct_g_go), gain_g_go, 100 * gain_g_go / len(correct_g_go) ))\n",
        "  print()\n",
        "  print('PLACE')\n",
        "  print('{:<10s}{:>5s}{:>15s}{:>15s}{:>12s}{:>12s}'.format('','joués','corrects','% corrects', 'gains', 'roi'))\n",
        "  if len(joue_ia) > 0 :\n",
        "    print('{:<10s}{:>5}{:>15}{:>15.2f}{:>12.2f}{:>12.2f}'.format('ia',len(joue_ia), len(correct_p_ia), 100 * len(correct_p_ia) / len(joue_ia), gain_p_ia, 100 * gain_p_ia / len(joue_ia) ))\n",
        "  print('{:<10s}{:>5}{:>15}{:>15.2f}{:>12.2f}{:>12.2f}'.format('hu',len(joue_hu), len(correct_p_hu), 100 * len(correct_p_hu) / len(joue_hu), gain_p_hu, 100 * gain_p_hu / len(joue_hu) ))\n",
        "  print('{:<10s}{:>5}{:>15}{:>15.2f}{:>12.2f}{:>12.2f}'.format('go',len(correct_p_go), len(correct_p_go), 100 * len(correct_p_go) / len(correct_p_go), gain_p_go, 100 * gain_p_go / len(correct_p_go) ))"
      ]
    },
    {
      "cell_type": "code",
      "execution_count": null,
      "metadata": {
        "colab": {
          "base_uri": "https://localhost:8080/",
          "height": 422
        },
        "id": "R6HvCr7VWDvl",
        "outputId": "490c3049-4e51-4e64-ae1f-eb4eafe886f1"
      },
      "outputs": [
        {
          "output_type": "stream",
          "name": "stderr",
          "text": [
            "/usr/local/lib/python3.7/dist-packages/IPython/core/interactiveshell.py:2882: DtypeWarning: Columns (2) have mixed types.Specify dtype option on import or set low_memory=False.\n",
            "  exec(code_obj, self.user_global_ns, self.user_ns)\n"
          ]
        },
        {
          "output_type": "execute_result",
          "data": {
            "text/plain": [
              "       AID_CR         AID_PT CH_MUSIQUE           CH_NOM         CO_NOM  \\\n",
              "0  080102R2C2  080102R2C2P01          0       Proci Volo    Morisson D.   \n",
              "1  080102R2C2  080102R2C2P02          0  Mas De Provence     Clement A.   \n",
              "2  080102R2C2  080102R2C2P03          0          Bobtail    Bertras Fx.   \n",
              "3  080102R2C2  080102R2C2P04          0      Son Premier    Trigodet O.   \n",
              "4  080102R2C2  080102R2C2P06          0        Admiratif  Mendizabal I.   \n",
              "\n",
              "  CR_LIEUX          CR_NOM  CX_CH_AGE_AVG  CX_CH_AGE_MAX  CX_CH_AGE_MIN  ...  \\\n",
              "0      PAU  Prix De Lescar            6.7              9              4  ...   \n",
              "1      PAU  Prix De Lescar            6.7              9              4  ...   \n",
              "2      PAU  Prix De Lescar            6.7              9              4  ...   \n",
              "3      PAU  Prix De Lescar            6.7              9              4  ...   \n",
              "4      PAU  Prix De Lescar            6.7              9              4  ...   \n",
              "\n",
              "   PT_CH_PRIX_IFPLC_AVG  PT_CH_DIST_IFPLC_AVG  PT_CH_COTE_IFPLC_AVG  \\\n",
              "0                   0.0                   0.0                   0.0   \n",
              "1                   0.0                   0.0                   0.0   \n",
              "2                   0.0                   0.0                   0.0   \n",
              "3                   0.0                   0.0                   0.0   \n",
              "4                   0.0                   0.0                   0.0   \n",
              "\n",
              "   PT_CH_POIDS_IFPLC_AVG  PT_CH_HANDI_IFPLC_AVG  PT_CH_GAIN  PT_CH_DIFF_DAYS  \\\n",
              "0                    0.0                    0.0         0.0              0.0   \n",
              "1                    0.0                    0.0         0.0              0.0   \n",
              "2                    0.0                    0.0         0.0              0.0   \n",
              "3                    0.0                    0.0         0.0              0.0   \n",
              "4                    0.0                    0.0         0.0              0.0   \n",
              "\n",
              "   PT_CH_NB_PERMONTH_AVG  PT_CH_SAME_CO  PT_CH_SAME_EN  \n",
              "0                    0.0              1              1  \n",
              "1                    0.0              1              1  \n",
              "2                    0.0              1              1  \n",
              "3                    0.0              1              1  \n",
              "4                    0.0              1              1  \n",
              "\n",
              "[5 rows x 158 columns]"
            ],
            "text/html": [
              "\n",
              "  <div id=\"df-844c37ac-dabf-439a-a24a-568e327d5154\">\n",
              "    <div class=\"colab-df-container\">\n",
              "      <div>\n",
              "<style scoped>\n",
              "    .dataframe tbody tr th:only-of-type {\n",
              "        vertical-align: middle;\n",
              "    }\n",
              "\n",
              "    .dataframe tbody tr th {\n",
              "        vertical-align: top;\n",
              "    }\n",
              "\n",
              "    .dataframe thead th {\n",
              "        text-align: right;\n",
              "    }\n",
              "</style>\n",
              "<table border=\"1\" class=\"dataframe\">\n",
              "  <thead>\n",
              "    <tr style=\"text-align: right;\">\n",
              "      <th></th>\n",
              "      <th>AID_CR</th>\n",
              "      <th>AID_PT</th>\n",
              "      <th>CH_MUSIQUE</th>\n",
              "      <th>CH_NOM</th>\n",
              "      <th>CO_NOM</th>\n",
              "      <th>CR_LIEUX</th>\n",
              "      <th>CR_NOM</th>\n",
              "      <th>CX_CH_AGE_AVG</th>\n",
              "      <th>CX_CH_AGE_MAX</th>\n",
              "      <th>CX_CH_AGE_MIN</th>\n",
              "      <th>...</th>\n",
              "      <th>PT_CH_PRIX_IFPLC_AVG</th>\n",
              "      <th>PT_CH_DIST_IFPLC_AVG</th>\n",
              "      <th>PT_CH_COTE_IFPLC_AVG</th>\n",
              "      <th>PT_CH_POIDS_IFPLC_AVG</th>\n",
              "      <th>PT_CH_HANDI_IFPLC_AVG</th>\n",
              "      <th>PT_CH_GAIN</th>\n",
              "      <th>PT_CH_DIFF_DAYS</th>\n",
              "      <th>PT_CH_NB_PERMONTH_AVG</th>\n",
              "      <th>PT_CH_SAME_CO</th>\n",
              "      <th>PT_CH_SAME_EN</th>\n",
              "    </tr>\n",
              "  </thead>\n",
              "  <tbody>\n",
              "    <tr>\n",
              "      <th>0</th>\n",
              "      <td>080102R2C2</td>\n",
              "      <td>080102R2C2P01</td>\n",
              "      <td>0</td>\n",
              "      <td>Proci Volo</td>\n",
              "      <td>Morisson D.</td>\n",
              "      <td>PAU</td>\n",
              "      <td>Prix De Lescar</td>\n",
              "      <td>6.7</td>\n",
              "      <td>9</td>\n",
              "      <td>4</td>\n",
              "      <td>...</td>\n",
              "      <td>0.0</td>\n",
              "      <td>0.0</td>\n",
              "      <td>0.0</td>\n",
              "      <td>0.0</td>\n",
              "      <td>0.0</td>\n",
              "      <td>0.0</td>\n",
              "      <td>0.0</td>\n",
              "      <td>0.0</td>\n",
              "      <td>1</td>\n",
              "      <td>1</td>\n",
              "    </tr>\n",
              "    <tr>\n",
              "      <th>1</th>\n",
              "      <td>080102R2C2</td>\n",
              "      <td>080102R2C2P02</td>\n",
              "      <td>0</td>\n",
              "      <td>Mas De Provence</td>\n",
              "      <td>Clement A.</td>\n",
              "      <td>PAU</td>\n",
              "      <td>Prix De Lescar</td>\n",
              "      <td>6.7</td>\n",
              "      <td>9</td>\n",
              "      <td>4</td>\n",
              "      <td>...</td>\n",
              "      <td>0.0</td>\n",
              "      <td>0.0</td>\n",
              "      <td>0.0</td>\n",
              "      <td>0.0</td>\n",
              "      <td>0.0</td>\n",
              "      <td>0.0</td>\n",
              "      <td>0.0</td>\n",
              "      <td>0.0</td>\n",
              "      <td>1</td>\n",
              "      <td>1</td>\n",
              "    </tr>\n",
              "    <tr>\n",
              "      <th>2</th>\n",
              "      <td>080102R2C2</td>\n",
              "      <td>080102R2C2P03</td>\n",
              "      <td>0</td>\n",
              "      <td>Bobtail</td>\n",
              "      <td>Bertras Fx.</td>\n",
              "      <td>PAU</td>\n",
              "      <td>Prix De Lescar</td>\n",
              "      <td>6.7</td>\n",
              "      <td>9</td>\n",
              "      <td>4</td>\n",
              "      <td>...</td>\n",
              "      <td>0.0</td>\n",
              "      <td>0.0</td>\n",
              "      <td>0.0</td>\n",
              "      <td>0.0</td>\n",
              "      <td>0.0</td>\n",
              "      <td>0.0</td>\n",
              "      <td>0.0</td>\n",
              "      <td>0.0</td>\n",
              "      <td>1</td>\n",
              "      <td>1</td>\n",
              "    </tr>\n",
              "    <tr>\n",
              "      <th>3</th>\n",
              "      <td>080102R2C2</td>\n",
              "      <td>080102R2C2P04</td>\n",
              "      <td>0</td>\n",
              "      <td>Son Premier</td>\n",
              "      <td>Trigodet O.</td>\n",
              "      <td>PAU</td>\n",
              "      <td>Prix De Lescar</td>\n",
              "      <td>6.7</td>\n",
              "      <td>9</td>\n",
              "      <td>4</td>\n",
              "      <td>...</td>\n",
              "      <td>0.0</td>\n",
              "      <td>0.0</td>\n",
              "      <td>0.0</td>\n",
              "      <td>0.0</td>\n",
              "      <td>0.0</td>\n",
              "      <td>0.0</td>\n",
              "      <td>0.0</td>\n",
              "      <td>0.0</td>\n",
              "      <td>1</td>\n",
              "      <td>1</td>\n",
              "    </tr>\n",
              "    <tr>\n",
              "      <th>4</th>\n",
              "      <td>080102R2C2</td>\n",
              "      <td>080102R2C2P06</td>\n",
              "      <td>0</td>\n",
              "      <td>Admiratif</td>\n",
              "      <td>Mendizabal I.</td>\n",
              "      <td>PAU</td>\n",
              "      <td>Prix De Lescar</td>\n",
              "      <td>6.7</td>\n",
              "      <td>9</td>\n",
              "      <td>4</td>\n",
              "      <td>...</td>\n",
              "      <td>0.0</td>\n",
              "      <td>0.0</td>\n",
              "      <td>0.0</td>\n",
              "      <td>0.0</td>\n",
              "      <td>0.0</td>\n",
              "      <td>0.0</td>\n",
              "      <td>0.0</td>\n",
              "      <td>0.0</td>\n",
              "      <td>1</td>\n",
              "      <td>1</td>\n",
              "    </tr>\n",
              "  </tbody>\n",
              "</table>\n",
              "<p>5 rows × 158 columns</p>\n",
              "</div>\n",
              "      <button class=\"colab-df-convert\" onclick=\"convertToInteractive('df-844c37ac-dabf-439a-a24a-568e327d5154')\"\n",
              "              title=\"Convert this dataframe to an interactive table.\"\n",
              "              style=\"display:none;\">\n",
              "        \n",
              "  <svg xmlns=\"http://www.w3.org/2000/svg\" height=\"24px\"viewBox=\"0 0 24 24\"\n",
              "       width=\"24px\">\n",
              "    <path d=\"M0 0h24v24H0V0z\" fill=\"none\"/>\n",
              "    <path d=\"M18.56 5.44l.94 2.06.94-2.06 2.06-.94-2.06-.94-.94-2.06-.94 2.06-2.06.94zm-11 1L8.5 8.5l.94-2.06 2.06-.94-2.06-.94L8.5 2.5l-.94 2.06-2.06.94zm10 10l.94 2.06.94-2.06 2.06-.94-2.06-.94-.94-2.06-.94 2.06-2.06.94z\"/><path d=\"M17.41 7.96l-1.37-1.37c-.4-.4-.92-.59-1.43-.59-.52 0-1.04.2-1.43.59L10.3 9.45l-7.72 7.72c-.78.78-.78 2.05 0 2.83L4 21.41c.39.39.9.59 1.41.59.51 0 1.02-.2 1.41-.59l7.78-7.78 2.81-2.81c.8-.78.8-2.07 0-2.86zM5.41 20L4 18.59l7.72-7.72 1.47 1.35L5.41 20z\"/>\n",
              "  </svg>\n",
              "      </button>\n",
              "      \n",
              "  <style>\n",
              "    .colab-df-container {\n",
              "      display:flex;\n",
              "      flex-wrap:wrap;\n",
              "      gap: 12px;\n",
              "    }\n",
              "\n",
              "    .colab-df-convert {\n",
              "      background-color: #E8F0FE;\n",
              "      border: none;\n",
              "      border-radius: 50%;\n",
              "      cursor: pointer;\n",
              "      display: none;\n",
              "      fill: #1967D2;\n",
              "      height: 32px;\n",
              "      padding: 0 0 0 0;\n",
              "      width: 32px;\n",
              "    }\n",
              "\n",
              "    .colab-df-convert:hover {\n",
              "      background-color: #E2EBFA;\n",
              "      box-shadow: 0px 1px 2px rgba(60, 64, 67, 0.3), 0px 1px 3px 1px rgba(60, 64, 67, 0.15);\n",
              "      fill: #174EA6;\n",
              "    }\n",
              "\n",
              "    [theme=dark] .colab-df-convert {\n",
              "      background-color: #3B4455;\n",
              "      fill: #D2E3FC;\n",
              "    }\n",
              "\n",
              "    [theme=dark] .colab-df-convert:hover {\n",
              "      background-color: #434B5C;\n",
              "      box-shadow: 0px 1px 3px 1px rgba(0, 0, 0, 0.15);\n",
              "      filter: drop-shadow(0px 1px 2px rgba(0, 0, 0, 0.3));\n",
              "      fill: #FFFFFF;\n",
              "    }\n",
              "  </style>\n",
              "\n",
              "      <script>\n",
              "        const buttonEl =\n",
              "          document.querySelector('#df-844c37ac-dabf-439a-a24a-568e327d5154 button.colab-df-convert');\n",
              "        buttonEl.style.display =\n",
              "          google.colab.kernel.accessAllowed ? 'block' : 'none';\n",
              "\n",
              "        async function convertToInteractive(key) {\n",
              "          const element = document.querySelector('#df-844c37ac-dabf-439a-a24a-568e327d5154');\n",
              "          const dataTable =\n",
              "            await google.colab.kernel.invokeFunction('convertToInteractive',\n",
              "                                                     [key], {});\n",
              "          if (!dataTable) return;\n",
              "\n",
              "          const docLinkHtml = 'Like what you see? Visit the ' +\n",
              "            '<a target=\"_blank\" href=https://colab.research.google.com/notebooks/data_table.ipynb>data table notebook</a>'\n",
              "            + ' to learn more about interactive tables.';\n",
              "          element.innerHTML = '';\n",
              "          dataTable['output_type'] = 'display_data';\n",
              "          await google.colab.output.renderOutput(dataTable, element);\n",
              "          const docLink = document.createElement('div');\n",
              "          docLink.innerHTML = docLinkHtml;\n",
              "          element.appendChild(docLink);\n",
              "        }\n",
              "      </script>\n",
              "    </div>\n",
              "  </div>\n",
              "  "
            ]
          },
          "metadata": {},
          "execution_count": 6
        }
      ],
      "source": [
        "# CHARGEMENT DONNEES BRUTES\n",
        "all = pd.read_csv(topath(\"plat_enr_tot.csv\"))\n",
        "#reparation provisoire\n",
        "all.loc[all.PT_COTE > 400, 'PT_COTE'] = all[(all.PT_COTE > 0) & (all.PT_COTE < 400)].PT_COTE.mean()\n",
        "all.head()"
      ]
    },
    {
      "cell_type": "code",
      "execution_count": null,
      "metadata": {
        "colab": {
          "base_uri": "https://localhost:8080/"
        },
        "id": "VX5nz0OlTeYi",
        "outputId": "197e84e0-3ac5-445a-af9c-c3f1de793a6d"
      },
      "outputs": [
        {
          "name": "stdout",
          "output_type": "stream",
          "text": [
            "<class 'pandas.core.frame.DataFrame'>\n",
            "RangeIndex: 512473 entries, 0 to 512472\n",
            "Data columns (total 158 columns):\n",
            " #    Column                   Non-Null Count   Dtype  \n",
            "---   ------                   --------------   -----  \n",
            " 0    AID_CR                   512473 non-null  object \n",
            " 1    AID_PT                   512473 non-null  object \n",
            " 2    CH_MUSIQUE               512473 non-null  object \n",
            " 3    CH_NOM                   512473 non-null  object \n",
            " 4    CO_NOM                   512473 non-null  object \n",
            " 5    CR_LIEUX                 512473 non-null  object \n",
            " 6    CR_NOM                   512473 non-null  object \n",
            " 7    CX_CH_AGE_AVG            512473 non-null  float64\n",
            " 8    CX_CH_AGE_MAX            512473 non-null  int64  \n",
            " 9    CX_CH_AGE_MIN            512473 non-null  int64  \n",
            " 10   CX_CH_AGE_STD            512473 non-null  float64\n",
            " 11   CX_CORDE_AVG             512473 non-null  float64\n",
            " 12   CX_CORDE_MAX             512473 non-null  int64  \n",
            " 13   CX_CORDE_MIN             512473 non-null  int64  \n",
            " 14   CX_CORDE_STD             512473 non-null  float64\n",
            " 15   CX_COTE_AVG              512473 non-null  float64\n",
            " 16   CX_COTE_MAX              512473 non-null  float64\n",
            " 17   CX_COTE_MIN              512473 non-null  float64\n",
            " 18   CX_COTE_STD              512473 non-null  float64\n",
            " 19   CX_DIST                  512473 non-null  int64  \n",
            " 20   CX_DIST_1_CG             512473 non-null  int64  \n",
            " 21   CX_DIST_2_CG             512473 non-null  int64  \n",
            " 22   CX_DIST_3_CG             512473 non-null  int64  \n",
            " 23   CX_DIST_4_CG             512473 non-null  int64  \n",
            " 24   CX_DIST_TYPE             512473 non-null  int64  \n",
            " 25   CX_HEURE                 512473 non-null  int64  \n",
            " 26   CX_INSCRITS              512473 non-null  int64  \n",
            " 27   CX_NUMERO                512473 non-null  int64  \n",
            " 28   CX_POIDS_AVG             512473 non-null  float64\n",
            " 29   CX_POIDS_MAX             512473 non-null  float64\n",
            " 30   CX_POIDS_MIN             512473 non-null  float64\n",
            " 31   CX_POIDS_STD             512473 non-null  float64\n",
            " 32   CX_PRESENTS              512473 non-null  int64  \n",
            " 33   CX_PRIX                  512473 non-null  int64  \n",
            " 34   CX_PRIX_1_CG             512473 non-null  int64  \n",
            " 35   CX_PRIX_2_CG             512473 non-null  int64  \n",
            " 36   CX_PRIX_3_CG             512473 non-null  int64  \n",
            " 37   CX_PRIX_4_CG             512473 non-null  int64  \n",
            " 38   CX_PRIX_5_CG             512473 non-null  int64  \n",
            " 39   CX_PRIX_6_CG             512473 non-null  int64  \n",
            " 40   CX_PRIX_TYPE             512473 non-null  int64  \n",
            " 41   CX_REUNION               512473 non-null  int64  \n",
            " 42   CX_SAISON                512473 non-null  int64  \n",
            " 43   CX_SAISON_A_CG           512473 non-null  int64  \n",
            " 44   CX_SAISON_E_CG           512473 non-null  int64  \n",
            " 45   CX_SAISON_H_CG           512473 non-null  int64  \n",
            " 46   CX_SAISON_P_CG           512473 non-null  int64  \n",
            " 47   CX_SEXE_COUNT_F          512473 non-null  int64  \n",
            " 48   CX_SEXE_COUNT_H          512473 non-null  int64  \n",
            " 49   CX_SEXE_COUNT_M          512473 non-null  int64  \n",
            " 50   CX_SEXE_PCT_F            512473 non-null  float64\n",
            " 51   CX_SEXE_PCT_H            512473 non-null  float64\n",
            " 52   CX_SEXE_PCT_M            512473 non-null  float64\n",
            " 53   CX_SEXE_TYPE             512473 non-null  float64\n",
            " 54   EN_NOM                   512473 non-null  object \n",
            " 55   PT_CH_AGE                512473 non-null  int64  \n",
            " 56   PT_CH_AGE_DM             512473 non-null  float64\n",
            " 57   PT_CH_AGE_OD             512473 non-null  float64\n",
            " 58   PT_CH_OEILLERE           512473 non-null  int64  \n",
            " 59   PT_CH_SEXE               512473 non-null  float64\n",
            " 60   PT_CH_SEXE_F_CG          512473 non-null  int64  \n",
            " 61   PT_CH_SEXE_H_CG          512473 non-null  int64  \n",
            " 62   PT_CH_SEXE_M_CG          512473 non-null  int64  \n",
            " 63   PT_CORDE                 512473 non-null  int64  \n",
            " 64   PT_CORDE_DM              512473 non-null  float64\n",
            " 65   PT_CORDE_OD              512473 non-null  float64\n",
            " 66   PT_COTE                  512473 non-null  float64\n",
            " 67   PT_COTE_DM               512473 non-null  float64\n",
            " 68   PT_COTE_OD               512473 non-null  float64\n",
            " 69   PT_COTE_OD_RAW           512473 non-null  float64\n",
            " 70   PT_CO_COTE_IFPLC_AVG     512473 non-null  float64\n",
            " 71   PT_CO_COTE_IFPLC_ECT     512473 non-null  float64\n",
            " 72   PT_CO_DIST_IFPLC_AVG     512473 non-null  float64\n",
            " 73   PT_CO_DIST_IFPLC_ECT     512473 non-null  float64\n",
            " 74   PT_CO_GAIN_PERMONTH      512473 non-null  float64\n",
            " 75   PT_CO_GAIN_PERMONTH_AVG  512473 non-null  float64\n",
            " 76   PT_CO_GAIN_PERMONTH_ECT  512473 non-null  float64\n",
            " 77   PT_CO_HANDI_IFPLC_AVG    512473 non-null  float64\n",
            " 78   PT_CO_KNOWN_MONTH        512473 non-null  int64  \n",
            " 79   PT_CO_NBCS_LOST          512473 non-null  int64  \n",
            " 80   PT_CO_NBCS_LOST_AVG      512473 non-null  float64\n",
            " 81   PT_CO_NBCS_LOST_ECT      512473 non-null  float64\n",
            " 82   PT_CO_NBCS_PLCS          512473 non-null  int64  \n",
            " 83   PT_CO_NBCS_WINS          512473 non-null  int64  \n",
            " 84   PT_CO_NB_INDAY           512473 non-null  int64  \n",
            " 85   PT_CO_NB_PERMONTH        512473 non-null  float64\n",
            " 86   PT_CO_NB_PERMONTH_AVG    512473 non-null  float64\n",
            " 87   PT_CO_NUM_INDAY          512473 non-null  int64  \n",
            " 88   PT_CO_PLC_INDAY          512473 non-null  float64\n",
            " 89   PT_CO_POIDS_IFPLC_AVG    512473 non-null  float64\n",
            " 90   PT_CO_PRIX_IFPLC_AVG     512473 non-null  float64\n",
            " 91   PT_CO_PRIX_IFPLC_ECT     512473 non-null  float64\n",
            " 92   PT_CO_SAME_EN            512473 non-null  int64  \n",
            " 93   PT_CO_TX_PLC             512473 non-null  float64\n",
            " 94   PT_CO_TX_PLC_PERMONTH    512473 non-null  float64\n",
            " 95   PT_CO_TX_WIN             512473 non-null  float64\n",
            " 96   PT_HANDI                 512473 non-null  float64\n",
            " 97   PT_NUMERO                512473 non-null  int64  \n",
            " 98   PT_POIDS                 512473 non-null  float64\n",
            " 99   PT_POIDS_DM              512473 non-null  float64\n",
            " 100  PT_POIDS_OD              512473 non-null  float64\n",
            " 101  TG_ECT_ATT               512473 non-null  float64\n",
            " 102  TG_EG_CH_AGE             512473 non-null  float64\n",
            " 103  TG_EG_CORDE              512473 non-null  float64\n",
            " 104  TG_EG_COTE               512473 non-null  float64\n",
            " 105  TG_EG_POIDS              512473 non-null  float64\n",
            " 106  TG_EO_CH_AGE             512473 non-null  float64\n",
            " 107  TG_EO_CORDE              512473 non-null  float64\n",
            " 108  TG_EO_COTE               512473 non-null  float64\n",
            " 109  TG_EO_POIDS              512473 non-null  float64\n",
            " 110  TG_EP_CH_AGE             512473 non-null  float64\n",
            " 111  TG_EP_CORDE              512473 non-null  float64\n",
            " 112  TG_EP_COTE               512473 non-null  float64\n",
            " 113  TG_EP_POIDS              512473 non-null  float64\n",
            " 114  TG_PLC                   512473 non-null  int64  \n",
            " 115  TG_PT_GAIN               512473 non-null  float64\n",
            " 116  TG_PT_GAIN_P             512473 non-null  float64\n",
            " 117  TG_PT_GAIN_W             512473 non-null  float64\n",
            " 118  TG_PT_RESULTAT           512473 non-null  float64\n",
            " 119  TG_RPT_COUPLE            512473 non-null  float64\n",
            " 120  TG_RPT_QUARTED           512473 non-null  float64\n",
            " 121  TG_RPT_QUARTEO           512473 non-null  float64\n",
            " 122  TG_RPT_QUINTED           512473 non-null  float64\n",
            " 123  TG_RPT_QUINTEO           512473 non-null  float64\n",
            " 124  TG_RPT_TIERCED           512473 non-null  float64\n",
            " 125  TG_RPT_TIERCEO           512473 non-null  float64\n",
            " 126  TG_RPT_TRIO              512473 non-null  float64\n",
            " 127  TG_SG_CH_AGE             512473 non-null  float64\n",
            " 128  TG_SG_CORDE              512473 non-null  float64\n",
            " 129  TG_SG_COTE               512473 non-null  float64\n",
            " 130  TG_SG_POIDS              512473 non-null  float64\n",
            " 131  TG_SO_CH_AGE             512473 non-null  float64\n",
            " 132  TG_SO_CORDE              512473 non-null  float64\n",
            " 133  TG_SO_COTE               512473 non-null  float64\n",
            " 134  TG_SO_POIDS              512473 non-null  float64\n",
            " 135  TG_SP_CH_AGE             512473 non-null  float64\n",
            " 136  TG_SP_CORDE              512473 non-null  float64\n",
            " 137  TG_SP_COTE               512473 non-null  float64\n",
            " 138  TG_SP_POIDS              512473 non-null  float64\n",
            " 139  TG_WIN                   512473 non-null  int64  \n",
            " 140  PT_CH_GAIN_PERYEAR       512473 non-null  float64\n",
            " 141  PT_CH_NB_PERMONTH        512473 non-null  float64\n",
            " 142  PT_CH_NBCS_WINS          512473 non-null  int64  \n",
            " 143  PT_CH_NBCS_PLCS          512473 non-null  int64  \n",
            " 144  PT_CH_NBCS_LOST          512473 non-null  int64  \n",
            " 145  PT_CH_TX_WIN             512473 non-null  float64\n",
            " 146  PT_CH_TX_PLC             512473 non-null  float64\n",
            " 147  PT_CH_NBCS_LOST_AVG      512473 non-null  float64\n",
            " 148  PT_CH_PRIX_IFPLC_AVG     512473 non-null  float64\n",
            " 149  PT_CH_DIST_IFPLC_AVG     512473 non-null  float64\n",
            " 150  PT_CH_COTE_IFPLC_AVG     512473 non-null  float64\n",
            " 151  PT_CH_POIDS_IFPLC_AVG    512473 non-null  float64\n",
            " 152  PT_CH_HANDI_IFPLC_AVG    512473 non-null  float64\n",
            " 153  PT_CH_GAIN               512473 non-null  float64\n",
            " 154  PT_CH_DIFF_DAYS          512473 non-null  float64\n",
            " 155  PT_CH_NB_PERMONTH_AVG    512473 non-null  float64\n",
            " 156  PT_CH_SAME_CO            512473 non-null  int64  \n",
            " 157  PT_CH_SAME_EN            512473 non-null  int64  \n",
            "dtypes: float64(98), int64(52), object(8)\n",
            "memory usage: 617.8+ MB\n"
          ]
        }
      ],
      "source": [
        "all.info(max_cols=160)"
      ]
    },
    {
      "cell_type": "markdown",
      "metadata": {
        "id": "F-HU3RsKRe4K"
      },
      "source": [
        "##Q2 : Par course"
      ]
    },
    {
      "cell_type": "code",
      "execution_count": null,
      "metadata": {
        "id": "U3MBv4XxRiqd"
      },
      "outputs": [],
      "source": [
        "numerical_cols = ['CX_CH_AGE_AVG', 'CX_CH_AGE_MAX', 'CX_CH_AGE_MIN', 'CX_CH_AGE_STD', 'CX_CORDE_AVG', 'CX_CORDE_MAX', 'CX_CORDE_MIN', 'CX_CORDE_STD', 'CX_COTE_AVG', 'CX_COTE_MAX', 'CX_COTE_MIN', 'CX_COTE_STD', 'CX_POIDS_AVG', 'CX_POIDS_MAX', 'CX_POIDS_MIN', 'CX_POIDS_STD', 'CX_SEXE_PCT_F', 'CX_SEXE_PCT_H', 'CX_SEXE_PCT_M']\n",
        "cat_int_cols = ['CX_DIST_TYPE', 'CX_HEURE', 'CX_NUMERO', 'CX_PRIX_TYPE', 'CX_REUNION', 'CX_INSCRITS', 'CX_PRESENTS', 'CX_SEXE_TYPE', 'CX_SAISON' ]\n",
        "cat_str_cols = ['CR_LIEUX']\n",
        "non_feature_cols = ['AID_CR', 'AID_PT', 'TG_RPT_COUPLE', 'TG_PT_RESULTAT', 'PT_COTE']\n",
        "features_cols = numerical_cols + cat_int_cols + cat_str_cols\n",
        "sel = all[numerical_cols + non_feature_cols + cat_int_cols + cat_str_cols]"
      ]
    },
    {
      "cell_type": "code",
      "execution_count": null,
      "metadata": {
        "colab": {
          "base_uri": "https://localhost:8080/",
          "height": 317
        },
        "id": "JoAaXLv4GYIq",
        "outputId": "7ea9bff2-c5b3-44d9-de56-13e6cd765b0f"
      },
      "outputs": [
        {
          "data": {
            "text/html": [
              "\n",
              "  <div id=\"df-fb5cee40-2315-4ba6-9100-44a5706b8034\">\n",
              "    <div class=\"colab-df-container\">\n",
              "      <div>\n",
              "<style scoped>\n",
              "    .dataframe tbody tr th:only-of-type {\n",
              "        vertical-align: middle;\n",
              "    }\n",
              "\n",
              "    .dataframe tbody tr th {\n",
              "        vertical-align: top;\n",
              "    }\n",
              "\n",
              "    .dataframe thead th {\n",
              "        text-align: right;\n",
              "    }\n",
              "</style>\n",
              "<table border=\"1\" class=\"dataframe\">\n",
              "  <thead>\n",
              "    <tr style=\"text-align: right;\">\n",
              "      <th></th>\n",
              "      <th>CX_CH_AGE_AVG</th>\n",
              "      <th>CX_CH_AGE_MAX</th>\n",
              "      <th>CX_CH_AGE_MIN</th>\n",
              "      <th>CX_CH_AGE_STD</th>\n",
              "      <th>CX_CORDE_AVG</th>\n",
              "      <th>CX_CORDE_MAX</th>\n",
              "      <th>CX_CORDE_MIN</th>\n",
              "      <th>CX_CORDE_STD</th>\n",
              "      <th>CX_COTE_AVG</th>\n",
              "      <th>CX_COTE_MAX</th>\n",
              "      <th>...</th>\n",
              "      <th>CX_DIST_TYPE</th>\n",
              "      <th>CX_HEURE</th>\n",
              "      <th>CX_NUMERO</th>\n",
              "      <th>CX_PRIX_TYPE</th>\n",
              "      <th>CX_REUNION</th>\n",
              "      <th>CX_INSCRITS</th>\n",
              "      <th>CX_PRESENTS</th>\n",
              "      <th>CX_SEXE_TYPE</th>\n",
              "      <th>CX_SAISON</th>\n",
              "      <th>CR_LIEUX</th>\n",
              "    </tr>\n",
              "  </thead>\n",
              "  <tbody>\n",
              "    <tr>\n",
              "      <th>363164</th>\n",
              "      <td>4.636364</td>\n",
              "      <td>5</td>\n",
              "      <td>4</td>\n",
              "      <td>0.504525</td>\n",
              "      <td>6.0</td>\n",
              "      <td>11</td>\n",
              "      <td>1</td>\n",
              "      <td>3.316625</td>\n",
              "      <td>16.505145</td>\n",
              "      <td>54.8</td>\n",
              "      <td>...</td>\n",
              "      <td>6</td>\n",
              "      <td>15</td>\n",
              "      <td>7</td>\n",
              "      <td>6</td>\n",
              "      <td>2</td>\n",
              "      <td>11</td>\n",
              "      <td>11</td>\n",
              "      <td>1.0</td>\n",
              "      <td>3</td>\n",
              "      <td>LA TESTE DE BUCH</td>\n",
              "    </tr>\n",
              "    <tr>\n",
              "      <th>351269</th>\n",
              "      <td>3.000000</td>\n",
              "      <td>3</td>\n",
              "      <td>3</td>\n",
              "      <td>0.000000</td>\n",
              "      <td>8.5</td>\n",
              "      <td>16</td>\n",
              "      <td>1</td>\n",
              "      <td>4.760952</td>\n",
              "      <td>24.887775</td>\n",
              "      <td>98.6</td>\n",
              "      <td>...</td>\n",
              "      <td>3</td>\n",
              "      <td>18</td>\n",
              "      <td>7</td>\n",
              "      <td>3</td>\n",
              "      <td>4</td>\n",
              "      <td>16</td>\n",
              "      <td>16</td>\n",
              "      <td>1.0</td>\n",
              "      <td>2</td>\n",
              "      <td>WISSEMBOURG</td>\n",
              "    </tr>\n",
              "    <tr>\n",
              "      <th>351256</th>\n",
              "      <td>5.062500</td>\n",
              "      <td>8</td>\n",
              "      <td>1</td>\n",
              "      <td>1.842779</td>\n",
              "      <td>8.5</td>\n",
              "      <td>16</td>\n",
              "      <td>1</td>\n",
              "      <td>4.760952</td>\n",
              "      <td>30.900000</td>\n",
              "      <td>156.2</td>\n",
              "      <td>...</td>\n",
              "      <td>3</td>\n",
              "      <td>17</td>\n",
              "      <td>6</td>\n",
              "      <td>3</td>\n",
              "      <td>4</td>\n",
              "      <td>16</td>\n",
              "      <td>16</td>\n",
              "      <td>1.0</td>\n",
              "      <td>2</td>\n",
              "      <td>WISSEMBOURG</td>\n",
              "    </tr>\n",
              "    <tr>\n",
              "      <th>351249</th>\n",
              "      <td>3.000000</td>\n",
              "      <td>3</td>\n",
              "      <td>3</td>\n",
              "      <td>0.000000</td>\n",
              "      <td>7.5</td>\n",
              "      <td>14</td>\n",
              "      <td>1</td>\n",
              "      <td>4.183300</td>\n",
              "      <td>37.028571</td>\n",
              "      <td>123.8</td>\n",
              "      <td>...</td>\n",
              "      <td>2</td>\n",
              "      <td>15</td>\n",
              "      <td>7</td>\n",
              "      <td>2</td>\n",
              "      <td>2</td>\n",
              "      <td>14</td>\n",
              "      <td>14</td>\n",
              "      <td>1.0</td>\n",
              "      <td>2</td>\n",
              "      <td>AIX LES BAINS</td>\n",
              "    </tr>\n",
              "    <tr>\n",
              "      <th>351238</th>\n",
              "      <td>5.416667</td>\n",
              "      <td>7</td>\n",
              "      <td>4</td>\n",
              "      <td>1.240112</td>\n",
              "      <td>6.5</td>\n",
              "      <td>12</td>\n",
              "      <td>1</td>\n",
              "      <td>3.605551</td>\n",
              "      <td>29.783333</td>\n",
              "      <td>137.4</td>\n",
              "      <td>...</td>\n",
              "      <td>1</td>\n",
              "      <td>14</td>\n",
              "      <td>6</td>\n",
              "      <td>1</td>\n",
              "      <td>2</td>\n",
              "      <td>12</td>\n",
              "      <td>12</td>\n",
              "      <td>1.0</td>\n",
              "      <td>2</td>\n",
              "      <td>AIX LES BAINS</td>\n",
              "    </tr>\n",
              "  </tbody>\n",
              "</table>\n",
              "<p>5 rows × 34 columns</p>\n",
              "</div>\n",
              "      <button class=\"colab-df-convert\" onclick=\"convertToInteractive('df-fb5cee40-2315-4ba6-9100-44a5706b8034')\"\n",
              "              title=\"Convert this dataframe to an interactive table.\"\n",
              "              style=\"display:none;\">\n",
              "        \n",
              "  <svg xmlns=\"http://www.w3.org/2000/svg\" height=\"24px\"viewBox=\"0 0 24 24\"\n",
              "       width=\"24px\">\n",
              "    <path d=\"M0 0h24v24H0V0z\" fill=\"none\"/>\n",
              "    <path d=\"M18.56 5.44l.94 2.06.94-2.06 2.06-.94-2.06-.94-.94-2.06-.94 2.06-2.06.94zm-11 1L8.5 8.5l.94-2.06 2.06-.94-2.06-.94L8.5 2.5l-.94 2.06-2.06.94zm10 10l.94 2.06.94-2.06 2.06-.94-2.06-.94-.94-2.06-.94 2.06-2.06.94z\"/><path d=\"M17.41 7.96l-1.37-1.37c-.4-.4-.92-.59-1.43-.59-.52 0-1.04.2-1.43.59L10.3 9.45l-7.72 7.72c-.78.78-.78 2.05 0 2.83L4 21.41c.39.39.9.59 1.41.59.51 0 1.02-.2 1.41-.59l7.78-7.78 2.81-2.81c.8-.78.8-2.07 0-2.86zM5.41 20L4 18.59l7.72-7.72 1.47 1.35L5.41 20z\"/>\n",
              "  </svg>\n",
              "      </button>\n",
              "      \n",
              "  <style>\n",
              "    .colab-df-container {\n",
              "      display:flex;\n",
              "      flex-wrap:wrap;\n",
              "      gap: 12px;\n",
              "    }\n",
              "\n",
              "    .colab-df-convert {\n",
              "      background-color: #E8F0FE;\n",
              "      border: none;\n",
              "      border-radius: 50%;\n",
              "      cursor: pointer;\n",
              "      display: none;\n",
              "      fill: #1967D2;\n",
              "      height: 32px;\n",
              "      padding: 0 0 0 0;\n",
              "      width: 32px;\n",
              "    }\n",
              "\n",
              "    .colab-df-convert:hover {\n",
              "      background-color: #E2EBFA;\n",
              "      box-shadow: 0px 1px 2px rgba(60, 64, 67, 0.3), 0px 1px 3px 1px rgba(60, 64, 67, 0.15);\n",
              "      fill: #174EA6;\n",
              "    }\n",
              "\n",
              "    [theme=dark] .colab-df-convert {\n",
              "      background-color: #3B4455;\n",
              "      fill: #D2E3FC;\n",
              "    }\n",
              "\n",
              "    [theme=dark] .colab-df-convert:hover {\n",
              "      background-color: #434B5C;\n",
              "      box-shadow: 0px 1px 3px 1px rgba(0, 0, 0, 0.15);\n",
              "      filter: drop-shadow(0px 1px 2px rgba(0, 0, 0, 0.3));\n",
              "      fill: #FFFFFF;\n",
              "    }\n",
              "  </style>\n",
              "\n",
              "      <script>\n",
              "        const buttonEl =\n",
              "          document.querySelector('#df-fb5cee40-2315-4ba6-9100-44a5706b8034 button.colab-df-convert');\n",
              "        buttonEl.style.display =\n",
              "          google.colab.kernel.accessAllowed ? 'block' : 'none';\n",
              "\n",
              "        async function convertToInteractive(key) {\n",
              "          const element = document.querySelector('#df-fb5cee40-2315-4ba6-9100-44a5706b8034');\n",
              "          const dataTable =\n",
              "            await google.colab.kernel.invokeFunction('convertToInteractive',\n",
              "                                                     [key], {});\n",
              "          if (!dataTable) return;\n",
              "\n",
              "          const docLinkHtml = 'Like what you see? Visit the ' +\n",
              "            '<a target=\"_blank\" href=https://colab.research.google.com/notebooks/data_table.ipynb>data table notebook</a>'\n",
              "            + ' to learn more about interactive tables.';\n",
              "          element.innerHTML = '';\n",
              "          dataTable['output_type'] = 'display_data';\n",
              "          await google.colab.output.renderOutput(dataTable, element);\n",
              "          const docLink = document.createElement('div');\n",
              "          docLink.innerHTML = docLinkHtml;\n",
              "          element.appendChild(docLink);\n",
              "        }\n",
              "      </script>\n",
              "    </div>\n",
              "  </div>\n",
              "  "
            ],
            "text/plain": [
              "        CX_CH_AGE_AVG  CX_CH_AGE_MAX  CX_CH_AGE_MIN  CX_CH_AGE_STD  \\\n",
              "363164       4.636364              5              4       0.504525   \n",
              "351269       3.000000              3              3       0.000000   \n",
              "351256       5.062500              8              1       1.842779   \n",
              "351249       3.000000              3              3       0.000000   \n",
              "351238       5.416667              7              4       1.240112   \n",
              "\n",
              "        CX_CORDE_AVG  CX_CORDE_MAX  CX_CORDE_MIN  CX_CORDE_STD  CX_COTE_AVG  \\\n",
              "363164           6.0            11             1      3.316625    16.505145   \n",
              "351269           8.5            16             1      4.760952    24.887775   \n",
              "351256           8.5            16             1      4.760952    30.900000   \n",
              "351249           7.5            14             1      4.183300    37.028571   \n",
              "351238           6.5            12             1      3.605551    29.783333   \n",
              "\n",
              "        CX_COTE_MAX  ...  CX_DIST_TYPE  CX_HEURE  CX_NUMERO  CX_PRIX_TYPE  \\\n",
              "363164         54.8  ...             6        15          7             6   \n",
              "351269         98.6  ...             3        18          7             3   \n",
              "351256        156.2  ...             3        17          6             3   \n",
              "351249        123.8  ...             2        15          7             2   \n",
              "351238        137.4  ...             1        14          6             1   \n",
              "\n",
              "        CX_REUNION  CX_INSCRITS  CX_PRESENTS  CX_SEXE_TYPE  CX_SAISON  \\\n",
              "363164           2           11           11           1.0          3   \n",
              "351269           4           16           16           1.0          2   \n",
              "351256           4           16           16           1.0          2   \n",
              "351249           2           14           14           1.0          2   \n",
              "351238           2           12           12           1.0          2   \n",
              "\n",
              "                CR_LIEUX  \n",
              "363164  LA TESTE DE BUCH  \n",
              "351269       WISSEMBOURG  \n",
              "351256       WISSEMBOURG  \n",
              "351249     AIX LES BAINS  \n",
              "351238     AIX LES BAINS  \n",
              "\n",
              "[5 rows x 34 columns]"
            ]
          },
          "execution_count": 88,
          "metadata": {},
          "output_type": "execute_result"
        }
      ],
      "source": [
        "sel = sel.sort_values(by=['TG_PT_RESULTAT'])\n",
        "df = sel.drop_duplicates(subset=['AID_CR'])\n",
        "df = df[(abs(df.CX_COTE_AVG - 21.652197) > 0.0001)]\n",
        "df = df[df.TG_RPT_COUPLE > 0]\n",
        "df = df[df.TG_PT_RESULTAT == 1]\n",
        "df.head()"
      ]
    },
    {
      "cell_type": "code",
      "execution_count": null,
      "metadata": {
        "colab": {
          "base_uri": "https://localhost:8080/",
          "height": 369
        },
        "id": "dVaZ8Q13XRRI",
        "outputId": "05a823fb-373b-471d-a126-c5fb789f1db0"
      },
      "outputs": [
        {
          "data": {
            "text/html": [
              "\n",
              "  <div id=\"df-ea9dbc4c-a603-4c75-a8d2-ac140af8d3cb\">\n",
              "    <div class=\"colab-df-container\">\n",
              "      <div>\n",
              "<style scoped>\n",
              "    .dataframe tbody tr th:only-of-type {\n",
              "        vertical-align: middle;\n",
              "    }\n",
              "\n",
              "    .dataframe tbody tr th {\n",
              "        vertical-align: top;\n",
              "    }\n",
              "\n",
              "    .dataframe thead th {\n",
              "        text-align: right;\n",
              "    }\n",
              "</style>\n",
              "<table border=\"1\" class=\"dataframe\">\n",
              "  <thead>\n",
              "    <tr style=\"text-align: right;\">\n",
              "      <th></th>\n",
              "      <th>CX_CH_AGE_AVG</th>\n",
              "      <th>CX_CH_AGE_MAX</th>\n",
              "      <th>CX_CH_AGE_MIN</th>\n",
              "      <th>CX_CH_AGE_STD</th>\n",
              "      <th>CX_CORDE_AVG</th>\n",
              "      <th>CX_CORDE_MAX</th>\n",
              "      <th>CX_CORDE_MIN</th>\n",
              "      <th>CX_CORDE_STD</th>\n",
              "      <th>CX_COTE_AVG</th>\n",
              "      <th>CX_COTE_MAX</th>\n",
              "      <th>...</th>\n",
              "      <th>CX_DIST_TYPE</th>\n",
              "      <th>CX_HEURE</th>\n",
              "      <th>CX_NUMERO</th>\n",
              "      <th>CX_PRIX_TYPE</th>\n",
              "      <th>CX_REUNION</th>\n",
              "      <th>CX_INSCRITS</th>\n",
              "      <th>CX_PRESENTS</th>\n",
              "      <th>CX_SEXE_TYPE</th>\n",
              "      <th>CX_SAISON</th>\n",
              "      <th>CR_LIEUX</th>\n",
              "    </tr>\n",
              "  </thead>\n",
              "  <tbody>\n",
              "    <tr>\n",
              "      <th>99174</th>\n",
              "      <td>2.000000</td>\n",
              "      <td>2</td>\n",
              "      <td>2</td>\n",
              "      <td>0.000000</td>\n",
              "      <td>9.5</td>\n",
              "      <td>18</td>\n",
              "      <td>1</td>\n",
              "      <td>5.338539</td>\n",
              "      <td>37.427778</td>\n",
              "      <td>105.0</td>\n",
              "      <td>...</td>\n",
              "      <td>5</td>\n",
              "      <td>11</td>\n",
              "      <td>2</td>\n",
              "      <td>5</td>\n",
              "      <td>3</td>\n",
              "      <td>18</td>\n",
              "      <td>18</td>\n",
              "      <td>1.0</td>\n",
              "      <td>0</td>\n",
              "      <td>DEAUVILLE MIDI</td>\n",
              "    </tr>\n",
              "    <tr>\n",
              "      <th>153517</th>\n",
              "      <td>6.071429</td>\n",
              "      <td>8</td>\n",
              "      <td>5</td>\n",
              "      <td>1.141139</td>\n",
              "      <td>7.5</td>\n",
              "      <td>14</td>\n",
              "      <td>1</td>\n",
              "      <td>4.183300</td>\n",
              "      <td>26.392857</td>\n",
              "      <td>95.0</td>\n",
              "      <td>...</td>\n",
              "      <td>4</td>\n",
              "      <td>17</td>\n",
              "      <td>8</td>\n",
              "      <td>4</td>\n",
              "      <td>2</td>\n",
              "      <td>14</td>\n",
              "      <td>14</td>\n",
              "      <td>1.0</td>\n",
              "      <td>0</td>\n",
              "      <td>PAU</td>\n",
              "    </tr>\n",
              "    <tr>\n",
              "      <th>154046</th>\n",
              "      <td>3.000000</td>\n",
              "      <td>3</td>\n",
              "      <td>3</td>\n",
              "      <td>0.000000</td>\n",
              "      <td>8.5</td>\n",
              "      <td>16</td>\n",
              "      <td>1</td>\n",
              "      <td>4.760952</td>\n",
              "      <td>22.897012</td>\n",
              "      <td>69.0</td>\n",
              "      <td>...</td>\n",
              "      <td>4</td>\n",
              "      <td>16</td>\n",
              "      <td>8</td>\n",
              "      <td>4</td>\n",
              "      <td>2</td>\n",
              "      <td>16</td>\n",
              "      <td>16</td>\n",
              "      <td>2.0</td>\n",
              "      <td>0</td>\n",
              "      <td>CAGNES SUR MER</td>\n",
              "    </tr>\n",
              "    <tr>\n",
              "      <th>154331</th>\n",
              "      <td>5.562500</td>\n",
              "      <td>7</td>\n",
              "      <td>5</td>\n",
              "      <td>0.727438</td>\n",
              "      <td>8.5</td>\n",
              "      <td>16</td>\n",
              "      <td>1</td>\n",
              "      <td>4.760952</td>\n",
              "      <td>18.515762</td>\n",
              "      <td>47.0</td>\n",
              "      <td>...</td>\n",
              "      <td>5</td>\n",
              "      <td>16</td>\n",
              "      <td>8</td>\n",
              "      <td>5</td>\n",
              "      <td>2</td>\n",
              "      <td>16</td>\n",
              "      <td>16</td>\n",
              "      <td>1.0</td>\n",
              "      <td>0</td>\n",
              "      <td>CAGNES SUR MER</td>\n",
              "    </tr>\n",
              "    <tr>\n",
              "      <th>154538</th>\n",
              "      <td>5.928571</td>\n",
              "      <td>9</td>\n",
              "      <td>5</td>\n",
              "      <td>1.206666</td>\n",
              "      <td>7.5</td>\n",
              "      <td>14</td>\n",
              "      <td>1</td>\n",
              "      <td>4.183300</td>\n",
              "      <td>16.500000</td>\n",
              "      <td>44.0</td>\n",
              "      <td>...</td>\n",
              "      <td>3</td>\n",
              "      <td>17</td>\n",
              "      <td>2</td>\n",
              "      <td>3</td>\n",
              "      <td>3</td>\n",
              "      <td>14</td>\n",
              "      <td>14</td>\n",
              "      <td>1.0</td>\n",
              "      <td>0</td>\n",
              "      <td>MARSEILLE VIVAUX</td>\n",
              "    </tr>\n",
              "  </tbody>\n",
              "</table>\n",
              "<p>5 rows × 32 columns</p>\n",
              "</div>\n",
              "      <button class=\"colab-df-convert\" onclick=\"convertToInteractive('df-ea9dbc4c-a603-4c75-a8d2-ac140af8d3cb')\"\n",
              "              title=\"Convert this dataframe to an interactive table.\"\n",
              "              style=\"display:none;\">\n",
              "        \n",
              "  <svg xmlns=\"http://www.w3.org/2000/svg\" height=\"24px\"viewBox=\"0 0 24 24\"\n",
              "       width=\"24px\">\n",
              "    <path d=\"M0 0h24v24H0V0z\" fill=\"none\"/>\n",
              "    <path d=\"M18.56 5.44l.94 2.06.94-2.06 2.06-.94-2.06-.94-.94-2.06-.94 2.06-2.06.94zm-11 1L8.5 8.5l.94-2.06 2.06-.94-2.06-.94L8.5 2.5l-.94 2.06-2.06.94zm10 10l.94 2.06.94-2.06 2.06-.94-2.06-.94-.94-2.06-.94 2.06-2.06.94z\"/><path d=\"M17.41 7.96l-1.37-1.37c-.4-.4-.92-.59-1.43-.59-.52 0-1.04.2-1.43.59L10.3 9.45l-7.72 7.72c-.78.78-.78 2.05 0 2.83L4 21.41c.39.39.9.59 1.41.59.51 0 1.02-.2 1.41-.59l7.78-7.78 2.81-2.81c.8-.78.8-2.07 0-2.86zM5.41 20L4 18.59l7.72-7.72 1.47 1.35L5.41 20z\"/>\n",
              "  </svg>\n",
              "      </button>\n",
              "      \n",
              "  <style>\n",
              "    .colab-df-container {\n",
              "      display:flex;\n",
              "      flex-wrap:wrap;\n",
              "      gap: 12px;\n",
              "    }\n",
              "\n",
              "    .colab-df-convert {\n",
              "      background-color: #E8F0FE;\n",
              "      border: none;\n",
              "      border-radius: 50%;\n",
              "      cursor: pointer;\n",
              "      display: none;\n",
              "      fill: #1967D2;\n",
              "      height: 32px;\n",
              "      padding: 0 0 0 0;\n",
              "      width: 32px;\n",
              "    }\n",
              "\n",
              "    .colab-df-convert:hover {\n",
              "      background-color: #E2EBFA;\n",
              "      box-shadow: 0px 1px 2px rgba(60, 64, 67, 0.3), 0px 1px 3px 1px rgba(60, 64, 67, 0.15);\n",
              "      fill: #174EA6;\n",
              "    }\n",
              "\n",
              "    [theme=dark] .colab-df-convert {\n",
              "      background-color: #3B4455;\n",
              "      fill: #D2E3FC;\n",
              "    }\n",
              "\n",
              "    [theme=dark] .colab-df-convert:hover {\n",
              "      background-color: #434B5C;\n",
              "      box-shadow: 0px 1px 3px 1px rgba(0, 0, 0, 0.15);\n",
              "      filter: drop-shadow(0px 1px 2px rgba(0, 0, 0, 0.3));\n",
              "      fill: #FFFFFF;\n",
              "    }\n",
              "  </style>\n",
              "\n",
              "      <script>\n",
              "        const buttonEl =\n",
              "          document.querySelector('#df-ea9dbc4c-a603-4c75-a8d2-ac140af8d3cb button.colab-df-convert');\n",
              "        buttonEl.style.display =\n",
              "          google.colab.kernel.accessAllowed ? 'block' : 'none';\n",
              "\n",
              "        async function convertToInteractive(key) {\n",
              "          const element = document.querySelector('#df-ea9dbc4c-a603-4c75-a8d2-ac140af8d3cb');\n",
              "          const dataTable =\n",
              "            await google.colab.kernel.invokeFunction('convertToInteractive',\n",
              "                                                     [key], {});\n",
              "          if (!dataTable) return;\n",
              "\n",
              "          const docLinkHtml = 'Like what you see? Visit the ' +\n",
              "            '<a target=\"_blank\" href=https://colab.research.google.com/notebooks/data_table.ipynb>data table notebook</a>'\n",
              "            + ' to learn more about interactive tables.';\n",
              "          element.innerHTML = '';\n",
              "          dataTable['output_type'] = 'display_data';\n",
              "          await google.colab.output.renderOutput(dataTable, element);\n",
              "          const docLink = document.createElement('div');\n",
              "          docLink.innerHTML = docLinkHtml;\n",
              "          element.appendChild(docLink);\n",
              "        }\n",
              "      </script>\n",
              "    </div>\n",
              "  </div>\n",
              "  "
            ],
            "text/plain": [
              "        CX_CH_AGE_AVG  CX_CH_AGE_MAX  CX_CH_AGE_MIN  CX_CH_AGE_STD  \\\n",
              "99174        2.000000              2              2       0.000000   \n",
              "153517       6.071429              8              5       1.141139   \n",
              "154046       3.000000              3              3       0.000000   \n",
              "154331       5.562500              7              5       0.727438   \n",
              "154538       5.928571              9              5       1.206666   \n",
              "\n",
              "        CX_CORDE_AVG  CX_CORDE_MAX  CX_CORDE_MIN  CX_CORDE_STD  CX_COTE_AVG  \\\n",
              "99174            9.5            18             1      5.338539    37.427778   \n",
              "153517           7.5            14             1      4.183300    26.392857   \n",
              "154046           8.5            16             1      4.760952    22.897012   \n",
              "154331           8.5            16             1      4.760952    18.515762   \n",
              "154538           7.5            14             1      4.183300    16.500000   \n",
              "\n",
              "        CX_COTE_MAX  ...  CX_DIST_TYPE  CX_HEURE  CX_NUMERO  CX_PRIX_TYPE  \\\n",
              "99174         105.0  ...             5        11          2             5   \n",
              "153517         95.0  ...             4        17          8             4   \n",
              "154046         69.0  ...             4        16          8             4   \n",
              "154331         47.0  ...             5        16          8             5   \n",
              "154538         44.0  ...             3        17          2             3   \n",
              "\n",
              "        CX_REUNION  CX_INSCRITS  CX_PRESENTS  CX_SEXE_TYPE  CX_SAISON  \\\n",
              "99174            3           18           18           1.0          0   \n",
              "153517           2           14           14           1.0          0   \n",
              "154046           2           16           16           2.0          0   \n",
              "154331           2           16           16           1.0          0   \n",
              "154538           3           14           14           1.0          0   \n",
              "\n",
              "                CR_LIEUX  \n",
              "99174     DEAUVILLE MIDI  \n",
              "153517               PAU  \n",
              "154046    CAGNES SUR MER  \n",
              "154331    CAGNES SUR MER  \n",
              "154538  MARSEILLE VIVAUX  \n",
              "\n",
              "[5 rows x 32 columns]"
            ]
          },
          "execution_count": 72,
          "metadata": {},
          "output_type": "execute_result"
        }
      ],
      "source": [
        "df = sel.drop_duplicates(subset=['AID_CR'])\n",
        "df = df[(abs(df.CX_COTE_AVG - 21.652197) > 0.0001)]\n",
        "df = df[df.TG_RPT_COUPLE > 0]\n",
        "df.head()"
      ]
    },
    {
      "cell_type": "code",
      "execution_count": null,
      "metadata": {
        "id": "G1289tAFZcpm"
      },
      "outputs": [],
      "source": [
        "df.info()"
      ]
    },
    {
      "cell_type": "markdown",
      "metadata": {
        "id": "GHDyR72Iiekb"
      },
      "source": [
        "### CLASSIFICATION"
      ]
    },
    {
      "cell_type": "code",
      "execution_count": null,
      "metadata": {
        "colab": {
          "base_uri": "https://localhost:8080/"
        },
        "id": "CtVQDYVedlHA",
        "outputId": "8e7dec95-fc5d-49df-8a9f-9ea940109fc0"
      },
      "outputs": [
        {
          "name": "stdout",
          "output_type": "stream",
          "text": [
            "count    22959.000000\n",
            "mean        65.125683\n",
            "std         95.538653\n",
            "min          1.650000\n",
            "25%         16.350000\n",
            "50%         34.050000\n",
            "75%         73.350000\n",
            "max       2204.100000\n",
            "Name: TG_RPT_COUPLE, dtype: float64\n"
          ]
        },
        {
          "data": {
            "text/plain": [
              "False    11487\n",
              "True     11472\n",
              "Name: TARGET, dtype: int64"
            ]
          },
          "execution_count": 32,
          "metadata": {},
          "output_type": "execute_result"
        }
      ],
      "source": [
        "# CLASSIFICATION TARGET\n",
        "print(df.TG_RPT_COUPLE.describe()) \n",
        "df['TARGET'] = df.TG_RPT_COUPLE > 34.050000\n",
        "df['TARGET'].value_counts()"
      ]
    },
    {
      "cell_type": "code",
      "execution_count": null,
      "metadata": {
        "colab": {
          "base_uri": "https://localhost:8080/"
        },
        "id": "7qA1B9s7H0tD",
        "outputId": "3955e044-c499-483d-e375-af71021a85ee"
      },
      "outputs": [
        {
          "name": "stdout",
          "output_type": "stream",
          "text": [
            "count    22708.000000\n",
            "mean         9.422010\n",
            "std         10.105083\n",
            "min          1.100000\n",
            "25%          3.800000\n",
            "50%          6.300000\n",
            "75%         11.000000\n",
            "max        152.000000\n",
            "Name: PT_COTE, dtype: float64\n"
          ]
        },
        {
          "data": {
            "text/plain": [
              "False    11504\n",
              "True     11204\n",
              "Name: TARGET, dtype: int64"
            ]
          },
          "execution_count": 91,
          "metadata": {},
          "output_type": "execute_result"
        }
      ],
      "source": [
        "print(df.PT_COTE.describe())\n",
        "df['TARGET'] = df.PT_COTE > 6.3\n",
        "df['TARGET'].value_counts()"
      ]
    },
    {
      "cell_type": "code",
      "execution_count": null,
      "metadata": {
        "colab": {
          "base_uri": "https://localhost:8080/"
        },
        "id": "T1DXgw8PjEWq",
        "outputId": "12ae1717-0671-4e58-b9fe-c3cf5fda5f84"
      },
      "outputs": [
        {
          "name": "stdout",
          "output_type": "stream",
          "text": [
            "trn : 8359\n",
            "tst : 14349\n"
          ]
        }
      ],
      "source": [
        "data = split_seuil(df, 'AID_CR', '15')\n",
        "ds_trn, ds_tst = to_ds(data)\n",
        "all_inputs, encoded_features = create_input_layers()"
      ]
    },
    {
      "cell_type": "code",
      "execution_count": null,
      "metadata": {
        "id": "NOntVo8GjIk8"
      },
      "outputs": [],
      "source": [
        "all_features = tf.keras.layers.concatenate(encoded_features)\n",
        "x = tf.keras.layers.Dense(128, activation=\"relu\")(all_features)\n",
        "x = tf.keras.layers.Dense(32, activation=\"relu\")(x)\n",
        "output = tf.keras.layers.Dense(1)(x)\n",
        "\n",
        "model = tf.keras.Model(all_inputs, output)\n",
        "model.compile(optimizer='adam',\n",
        "              loss=tf.keras.losses.BinaryCrossentropy(from_logits=True),\n",
        "              metrics=[\"accuracy\"])\n"
      ]
    },
    {
      "cell_type": "code",
      "execution_count": null,
      "metadata": {
        "colab": {
          "base_uri": "https://localhost:8080/"
        },
        "id": "I6lP9Y0xlWkR",
        "outputId": "b8a00bb1-177a-4a1a-fd4b-d0017c35e0d1"
      },
      "outputs": [
        {
          "name": "stdout",
          "output_type": "stream",
          "text": [
            "Epoch 1/10\n",
            "33/33 [==============================] - 2s 7ms/step - loss: 0.6713 - accuracy: 0.5454\n",
            "Epoch 2/10\n",
            "33/33 [==============================] - 0s 7ms/step - loss: 0.6440 - accuracy: 0.6141\n",
            "Epoch 3/10\n",
            "33/33 [==============================] - 0s 7ms/step - loss: 0.6375 - accuracy: 0.6077\n",
            "Epoch 4/10\n",
            "33/33 [==============================] - 0s 7ms/step - loss: 0.6325 - accuracy: 0.6161\n",
            "Epoch 5/10\n",
            "33/33 [==============================] - 0s 7ms/step - loss: 0.6289 - accuracy: 0.6167\n",
            "Epoch 6/10\n",
            "33/33 [==============================] - 0s 7ms/step - loss: 0.6252 - accuracy: 0.6256\n",
            "Epoch 7/10\n",
            "33/33 [==============================] - 0s 7ms/step - loss: 0.6218 - accuracy: 0.6247\n",
            "Epoch 8/10\n",
            "33/33 [==============================] - 0s 7ms/step - loss: 0.6183 - accuracy: 0.6265\n",
            "Epoch 9/10\n",
            "33/33 [==============================] - 0s 7ms/step - loss: 0.6148 - accuracy: 0.6338\n",
            "Epoch 10/10\n",
            "33/33 [==============================] - 0s 7ms/step - loss: 0.6108 - accuracy: 0.6355\n"
          ]
        },
        {
          "data": {
            "text/plain": [
              "<keras.callbacks.History at 0x7f597a2be210>"
            ]
          },
          "execution_count": 94,
          "metadata": {},
          "output_type": "execute_result"
        }
      ],
      "source": [
        "model.fit(ds_trn, epochs=10)"
      ]
    },
    {
      "cell_type": "code",
      "execution_count": null,
      "metadata": {
        "colab": {
          "base_uri": "https://localhost:8080/"
        },
        "id": "RvZKKoykk2th",
        "outputId": "a9c27d0c-3993-47be-a1a0-2263d2443f85"
      },
      "outputs": [
        {
          "name": "stdout",
          "output_type": "stream",
          "text": [
            "57/57 [==============================] - 1s 6ms/step - loss: 0.6474 - accuracy: 0.6167\n",
            "Accuracy 0.6166980266571045\n"
          ]
        }
      ],
      "source": [
        "loss, accuracy = model.evaluate(ds_tst)\n",
        "print(\"Accuracy\", accuracy)"
      ]
    },
    {
      "cell_type": "code",
      "execution_count": null,
      "metadata": {
        "colab": {
          "base_uri": "https://localhost:8080/"
        },
        "id": "VkSFFxVvlQBf",
        "outputId": "62c83cc5-a1a3-4847-f08e-f94155151ea3"
      },
      "outputs": [
        {
          "name": "stderr",
          "output_type": "stream",
          "text": [
            "/usr/local/lib/python3.7/dist-packages/keras/engine/functional.py:559: UserWarning: Input dict contained keys ['AID_CR', 'AID_PT', 'TG_RPT_COUPLE', 'TG_PT_RESULTAT', 'PT_COTE', 'TARGET'] which did not match any model input. They will be ignored by the model.\n",
            "  inputs = self._flatten_to_reference_inputs(inputs)\n"
          ]
        },
        {
          "data": {
            "text/plain": [
              "count    14349.000000\n",
              "mean        -0.051609\n",
              "std          0.797924\n",
              "min         -2.676125\n",
              "25%         -0.658583\n",
              "50%         -0.127760\n",
              "75%          0.475479\n",
              "max          4.564810\n",
              "Name: PRED, dtype: float64"
            ]
          },
          "execution_count": 96,
          "metadata": {},
          "output_type": "execute_result"
        }
      ],
      "source": [
        "data['tst']['PRED'] = model.predict(dict(data['tst']))\n",
        "data['tst']\n",
        "dr = data['tst']\n",
        "dr.PRED.describe()"
      ]
    },
    {
      "cell_type": "code",
      "execution_count": null,
      "metadata": {
        "colab": {
          "base_uri": "https://localhost:8080/"
        },
        "id": "FXracIWslpK4",
        "outputId": "ed571f47-434b-4c33-b363-bcbe77728f60"
      },
      "outputs": [
        {
          "name": "stdout",
          "output_type": "stream",
          "text": [
            "0.44010035542546516\n",
            "0.6243863816310372\n"
          ]
        }
      ],
      "source": [
        "inseuil = dr[dr.PRED > 0.0]\n",
        "print(len(inseuil) / len(dr))\n",
        "print(inseuil.TARGET.mean())"
      ]
    },
    {
      "cell_type": "code",
      "execution_count": null,
      "metadata": {
        "colab": {
          "base_uri": "https://localhost:8080/"
        },
        "id": "cv7MxlWmBMW0",
        "outputId": "f1dd04fd-2ada-431d-8ab2-c1297984cbd7"
      },
      "outputs": [
        {
          "name": "stdout",
          "output_type": "stream",
          "text": [
            "<class 'pandas.core.frame.DataFrame'>\n",
            "Int64Index: 14349 entries, 363164 to 503886\n",
            "Data columns (total 36 columns):\n",
            " #   Column          Non-Null Count  Dtype  \n",
            "---  ------          --------------  -----  \n",
            " 0   CX_CH_AGE_AVG   14349 non-null  float64\n",
            " 1   CX_CH_AGE_MAX   14349 non-null  int64  \n",
            " 2   CX_CH_AGE_MIN   14349 non-null  int64  \n",
            " 3   CX_CH_AGE_STD   14349 non-null  float64\n",
            " 4   CX_CORDE_AVG    14349 non-null  float64\n",
            " 5   CX_CORDE_MAX    14349 non-null  int64  \n",
            " 6   CX_CORDE_MIN    14349 non-null  int64  \n",
            " 7   CX_CORDE_STD    14349 non-null  float64\n",
            " 8   CX_COTE_AVG     14349 non-null  float64\n",
            " 9   CX_COTE_MAX     14349 non-null  float64\n",
            " 10  CX_COTE_MIN     14349 non-null  float64\n",
            " 11  CX_COTE_STD     14349 non-null  float64\n",
            " 12  CX_POIDS_AVG    14349 non-null  float64\n",
            " 13  CX_POIDS_MAX    14349 non-null  float64\n",
            " 14  CX_POIDS_MIN    14349 non-null  float64\n",
            " 15  CX_POIDS_STD    14349 non-null  float64\n",
            " 16  CX_SEXE_PCT_F   14349 non-null  float64\n",
            " 17  CX_SEXE_PCT_H   14349 non-null  float64\n",
            " 18  CX_SEXE_PCT_M   14349 non-null  float64\n",
            " 19  AID_CR          14349 non-null  object \n",
            " 20  AID_PT          14349 non-null  object \n",
            " 21  TG_RPT_COUPLE   14349 non-null  float64\n",
            " 22  TG_PT_RESULTAT  14349 non-null  float64\n",
            " 23  PT_COTE         14349 non-null  float64\n",
            " 24  CX_DIST_TYPE    14349 non-null  int64  \n",
            " 25  CX_HEURE        14349 non-null  int64  \n",
            " 26  CX_NUMERO       14349 non-null  int64  \n",
            " 27  CX_PRIX_TYPE    14349 non-null  int64  \n",
            " 28  CX_REUNION      14349 non-null  int64  \n",
            " 29  CX_INSCRITS     14349 non-null  int64  \n",
            " 30  CX_PRESENTS     14349 non-null  int64  \n",
            " 31  CX_SEXE_TYPE    14349 non-null  float64\n",
            " 32  CX_SAISON       14349 non-null  int64  \n",
            " 33  CR_LIEUX        14349 non-null  object \n",
            " 34  TARGET          14349 non-null  bool   \n",
            " 35  PRED            14349 non-null  float32\n",
            "dtypes: bool(1), float32(1), float64(19), int64(12), object(3)\n",
            "memory usage: 3.9+ MB\n"
          ]
        }
      ],
      "source": [
        "sel = data['tst']\n",
        "sel.info()"
      ]
    },
    {
      "cell_type": "code",
      "execution_count": null,
      "metadata": {
        "id": "1zOtp9znBlei"
      },
      "outputs": [],
      "source": [
        "sel = sel[['AID_CR', 'PRED']].merge(all, on='AID_CR', how='left') "
      ]
    },
    {
      "cell_type": "code",
      "execution_count": null,
      "metadata": {
        "id": "dhwtVUxaCJ4y"
      },
      "outputs": [],
      "source": [
        "numerical_cols = ['PT_POIDS', 'PT_COTE', 'PT_CH_GAIN_PERYEAR', 'PT_CH_NBCS_WINS', 'PT_CH_NBCS_PLCS', 'PT_CH_NBCS_LOST', 'PT_CH_TX_WIN', 'PT_CH_TX_PLC', 'PT_CO_TX_WIN', 'PRED']\n",
        "#numerical_cols = ['PT_CH_TX_WIN', 'PT_CH_TX_PLC', 'PT_CO_TX_WIN']\n",
        "#cat_int_cols = [ 'PT_COTE_OD_RAW', 'PT_CH_AGE']\n",
        "cat_int_cols = []\n",
        "cat_str_cols = []\n",
        "non_feature_cols = ['AID_CR', 'AID_PT', 'TG_PLC', 'TG_WIN','TG_PT_GAIN_W','TG_PT_GAIN_P', 'PT_COTE_OD_RAW']\n",
        "features_cols = numerical_cols + cat_int_cols + cat_str_cols\n",
        "sel = sel[numerical_cols + non_feature_cols + cat_int_cols + cat_str_cols]"
      ]
    },
    {
      "cell_type": "code",
      "execution_count": null,
      "metadata": {
        "colab": {
          "base_uri": "https://localhost:8080/",
          "height": 488
        },
        "id": "PLpJ0aoQD5YE",
        "outputId": "1872fa5e-b737-4890-9f61-177641f83407"
      },
      "outputs": [
        {
          "data": {
            "text/html": [
              "\n",
              "  <div id=\"df-f90225bf-ea66-456e-aee6-18fefb9896a2\">\n",
              "    <div class=\"colab-df-container\">\n",
              "      <div>\n",
              "<style scoped>\n",
              "    .dataframe tbody tr th:only-of-type {\n",
              "        vertical-align: middle;\n",
              "    }\n",
              "\n",
              "    .dataframe tbody tr th {\n",
              "        vertical-align: top;\n",
              "    }\n",
              "\n",
              "    .dataframe thead th {\n",
              "        text-align: right;\n",
              "    }\n",
              "</style>\n",
              "<table border=\"1\" class=\"dataframe\">\n",
              "  <thead>\n",
              "    <tr style=\"text-align: right;\">\n",
              "      <th></th>\n",
              "      <th>PT_POIDS</th>\n",
              "      <th>PT_COTE</th>\n",
              "      <th>PT_CH_GAIN_PERYEAR</th>\n",
              "      <th>PT_CH_NBCS_WINS</th>\n",
              "      <th>PT_CH_NBCS_PLCS</th>\n",
              "      <th>PT_CH_NBCS_LOST</th>\n",
              "      <th>PT_CH_TX_WIN</th>\n",
              "      <th>PT_CH_TX_PLC</th>\n",
              "      <th>PT_CO_TX_WIN</th>\n",
              "      <th>PRED</th>\n",
              "      <th>AID_CR</th>\n",
              "      <th>AID_PT</th>\n",
              "      <th>TG_PLC</th>\n",
              "      <th>TG_WIN</th>\n",
              "      <th>TG_PT_GAIN_W</th>\n",
              "      <th>TG_PT_GAIN_P</th>\n",
              "      <th>PT_COTE_OD_RAW</th>\n",
              "    </tr>\n",
              "  </thead>\n",
              "  <tbody>\n",
              "    <tr>\n",
              "      <th>0</th>\n",
              "      <td>61.0</td>\n",
              "      <td>4.5</td>\n",
              "      <td>1096666.67</td>\n",
              "      <td>2</td>\n",
              "      <td>2</td>\n",
              "      <td>0</td>\n",
              "      <td>0.400000</td>\n",
              "      <td>0.400000</td>\n",
              "      <td>0.082487</td>\n",
              "      <td>1.456755</td>\n",
              "      <td>150102R1C4</td>\n",
              "      <td>150102R1C4P01</td>\n",
              "      <td>1</td>\n",
              "      <td>1</td>\n",
              "      <td>3.5</td>\n",
              "      <td>0.875</td>\n",
              "      <td>1.0</td>\n",
              "    </tr>\n",
              "    <tr>\n",
              "      <th>1</th>\n",
              "      <td>61.0</td>\n",
              "      <td>5.3</td>\n",
              "      <td>192000.00</td>\n",
              "      <td>1</td>\n",
              "      <td>1</td>\n",
              "      <td>0</td>\n",
              "      <td>0.500000</td>\n",
              "      <td>0.500000</td>\n",
              "      <td>0.047244</td>\n",
              "      <td>1.456755</td>\n",
              "      <td>150102R1C4</td>\n",
              "      <td>150102R1C4P02</td>\n",
              "      <td>0</td>\n",
              "      <td>0</td>\n",
              "      <td>-1.0</td>\n",
              "      <td>-1.000</td>\n",
              "      <td>2.0</td>\n",
              "    </tr>\n",
              "    <tr>\n",
              "      <th>2</th>\n",
              "      <td>60.0</td>\n",
              "      <td>11.1</td>\n",
              "      <td>395500.00</td>\n",
              "      <td>0</td>\n",
              "      <td>0</td>\n",
              "      <td>3</td>\n",
              "      <td>0.222222</td>\n",
              "      <td>0.444444</td>\n",
              "      <td>0.137615</td>\n",
              "      <td>1.456755</td>\n",
              "      <td>150102R1C4</td>\n",
              "      <td>150102R1C4P03</td>\n",
              "      <td>0</td>\n",
              "      <td>0</td>\n",
              "      <td>-1.0</td>\n",
              "      <td>-1.000</td>\n",
              "      <td>6.0</td>\n",
              "    </tr>\n",
              "    <tr>\n",
              "      <th>3</th>\n",
              "      <td>60.0</td>\n",
              "      <td>8.5</td>\n",
              "      <td>620333.33</td>\n",
              "      <td>0</td>\n",
              "      <td>2</td>\n",
              "      <td>0</td>\n",
              "      <td>0.000000</td>\n",
              "      <td>0.666667</td>\n",
              "      <td>0.089325</td>\n",
              "      <td>1.456755</td>\n",
              "      <td>150102R1C4</td>\n",
              "      <td>150102R1C4P04</td>\n",
              "      <td>0</td>\n",
              "      <td>0</td>\n",
              "      <td>-1.0</td>\n",
              "      <td>-1.000</td>\n",
              "      <td>4.0</td>\n",
              "    </tr>\n",
              "    <tr>\n",
              "      <th>4</th>\n",
              "      <td>59.5</td>\n",
              "      <td>11.2</td>\n",
              "      <td>67166.67</td>\n",
              "      <td>0</td>\n",
              "      <td>1</td>\n",
              "      <td>0</td>\n",
              "      <td>0.181818</td>\n",
              "      <td>0.272727</td>\n",
              "      <td>0.208333</td>\n",
              "      <td>1.456755</td>\n",
              "      <td>150102R1C4</td>\n",
              "      <td>150102R1C4P05</td>\n",
              "      <td>1</td>\n",
              "      <td>0</td>\n",
              "      <td>-1.0</td>\n",
              "      <td>2.550</td>\n",
              "      <td>6.0</td>\n",
              "    </tr>\n",
              "    <tr>\n",
              "      <th>...</th>\n",
              "      <td>...</td>\n",
              "      <td>...</td>\n",
              "      <td>...</td>\n",
              "      <td>...</td>\n",
              "      <td>...</td>\n",
              "      <td>...</td>\n",
              "      <td>...</td>\n",
              "      <td>...</td>\n",
              "      <td>...</td>\n",
              "      <td>...</td>\n",
              "      <td>...</td>\n",
              "      <td>...</td>\n",
              "      <td>...</td>\n",
              "      <td>...</td>\n",
              "      <td>...</td>\n",
              "      <td>...</td>\n",
              "      <td>...</td>\n",
              "    </tr>\n",
              "    <tr>\n",
              "      <th>173749</th>\n",
              "      <td>57.0</td>\n",
              "      <td>6.5</td>\n",
              "      <td>0.00</td>\n",
              "      <td>0</td>\n",
              "      <td>0</td>\n",
              "      <td>1</td>\n",
              "      <td>0.000000</td>\n",
              "      <td>0.000000</td>\n",
              "      <td>0.000000</td>\n",
              "      <td>-1.019080</td>\n",
              "      <td>171230R5C9</td>\n",
              "      <td>171230R5C9P04</td>\n",
              "      <td>0</td>\n",
              "      <td>0</td>\n",
              "      <td>-1.0</td>\n",
              "      <td>-1.000</td>\n",
              "      <td>3.0</td>\n",
              "    </tr>\n",
              "    <tr>\n",
              "      <th>173750</th>\n",
              "      <td>53.0</td>\n",
              "      <td>10.7</td>\n",
              "      <td>0.00</td>\n",
              "      <td>0</td>\n",
              "      <td>1</td>\n",
              "      <td>0</td>\n",
              "      <td>0.000000</td>\n",
              "      <td>1.000000</td>\n",
              "      <td>0.000000</td>\n",
              "      <td>-1.019080</td>\n",
              "      <td>171230R5C9</td>\n",
              "      <td>171230R5C9P05</td>\n",
              "      <td>0</td>\n",
              "      <td>0</td>\n",
              "      <td>-1.0</td>\n",
              "      <td>-1.000</td>\n",
              "      <td>6.0</td>\n",
              "    </tr>\n",
              "    <tr>\n",
              "      <th>173751</th>\n",
              "      <td>54.0</td>\n",
              "      <td>6.6</td>\n",
              "      <td>0.00</td>\n",
              "      <td>0</td>\n",
              "      <td>0</td>\n",
              "      <td>1</td>\n",
              "      <td>0.000000</td>\n",
              "      <td>0.000000</td>\n",
              "      <td>0.250000</td>\n",
              "      <td>-1.019080</td>\n",
              "      <td>171230R5C9</td>\n",
              "      <td>171230R5C9P06</td>\n",
              "      <td>1</td>\n",
              "      <td>0</td>\n",
              "      <td>-1.0</td>\n",
              "      <td>1.400</td>\n",
              "      <td>4.0</td>\n",
              "    </tr>\n",
              "    <tr>\n",
              "      <th>173752</th>\n",
              "      <td>51.0</td>\n",
              "      <td>21.8</td>\n",
              "      <td>0.00</td>\n",
              "      <td>0</td>\n",
              "      <td>0</td>\n",
              "      <td>1</td>\n",
              "      <td>0.000000</td>\n",
              "      <td>0.000000</td>\n",
              "      <td>0.000000</td>\n",
              "      <td>-1.019080</td>\n",
              "      <td>171230R5C9</td>\n",
              "      <td>171230R5C9P07</td>\n",
              "      <td>0</td>\n",
              "      <td>0</td>\n",
              "      <td>-1.0</td>\n",
              "      <td>-1.000</td>\n",
              "      <td>6.0</td>\n",
              "    </tr>\n",
              "    <tr>\n",
              "      <th>173753</th>\n",
              "      <td>54.0</td>\n",
              "      <td>2.8</td>\n",
              "      <td>8093.25</td>\n",
              "      <td>0</td>\n",
              "      <td>1</td>\n",
              "      <td>0</td>\n",
              "      <td>0.000000</td>\n",
              "      <td>1.000000</td>\n",
              "      <td>0.125000</td>\n",
              "      <td>-1.019080</td>\n",
              "      <td>171230R5C9</td>\n",
              "      <td>171230R5C9P08</td>\n",
              "      <td>1</td>\n",
              "      <td>0</td>\n",
              "      <td>-1.0</td>\n",
              "      <td>0.450</td>\n",
              "      <td>1.0</td>\n",
              "    </tr>\n",
              "  </tbody>\n",
              "</table>\n",
              "<p>173754 rows × 17 columns</p>\n",
              "</div>\n",
              "      <button class=\"colab-df-convert\" onclick=\"convertToInteractive('df-f90225bf-ea66-456e-aee6-18fefb9896a2')\"\n",
              "              title=\"Convert this dataframe to an interactive table.\"\n",
              "              style=\"display:none;\">\n",
              "        \n",
              "  <svg xmlns=\"http://www.w3.org/2000/svg\" height=\"24px\"viewBox=\"0 0 24 24\"\n",
              "       width=\"24px\">\n",
              "    <path d=\"M0 0h24v24H0V0z\" fill=\"none\"/>\n",
              "    <path d=\"M18.56 5.44l.94 2.06.94-2.06 2.06-.94-2.06-.94-.94-2.06-.94 2.06-2.06.94zm-11 1L8.5 8.5l.94-2.06 2.06-.94-2.06-.94L8.5 2.5l-.94 2.06-2.06.94zm10 10l.94 2.06.94-2.06 2.06-.94-2.06-.94-.94-2.06-.94 2.06-2.06.94z\"/><path d=\"M17.41 7.96l-1.37-1.37c-.4-.4-.92-.59-1.43-.59-.52 0-1.04.2-1.43.59L10.3 9.45l-7.72 7.72c-.78.78-.78 2.05 0 2.83L4 21.41c.39.39.9.59 1.41.59.51 0 1.02-.2 1.41-.59l7.78-7.78 2.81-2.81c.8-.78.8-2.07 0-2.86zM5.41 20L4 18.59l7.72-7.72 1.47 1.35L5.41 20z\"/>\n",
              "  </svg>\n",
              "      </button>\n",
              "      \n",
              "  <style>\n",
              "    .colab-df-container {\n",
              "      display:flex;\n",
              "      flex-wrap:wrap;\n",
              "      gap: 12px;\n",
              "    }\n",
              "\n",
              "    .colab-df-convert {\n",
              "      background-color: #E8F0FE;\n",
              "      border: none;\n",
              "      border-radius: 50%;\n",
              "      cursor: pointer;\n",
              "      display: none;\n",
              "      fill: #1967D2;\n",
              "      height: 32px;\n",
              "      padding: 0 0 0 0;\n",
              "      width: 32px;\n",
              "    }\n",
              "\n",
              "    .colab-df-convert:hover {\n",
              "      background-color: #E2EBFA;\n",
              "      box-shadow: 0px 1px 2px rgba(60, 64, 67, 0.3), 0px 1px 3px 1px rgba(60, 64, 67, 0.15);\n",
              "      fill: #174EA6;\n",
              "    }\n",
              "\n",
              "    [theme=dark] .colab-df-convert {\n",
              "      background-color: #3B4455;\n",
              "      fill: #D2E3FC;\n",
              "    }\n",
              "\n",
              "    [theme=dark] .colab-df-convert:hover {\n",
              "      background-color: #434B5C;\n",
              "      box-shadow: 0px 1px 3px 1px rgba(0, 0, 0, 0.15);\n",
              "      filter: drop-shadow(0px 1px 2px rgba(0, 0, 0, 0.3));\n",
              "      fill: #FFFFFF;\n",
              "    }\n",
              "  </style>\n",
              "\n",
              "      <script>\n",
              "        const buttonEl =\n",
              "          document.querySelector('#df-f90225bf-ea66-456e-aee6-18fefb9896a2 button.colab-df-convert');\n",
              "        buttonEl.style.display =\n",
              "          google.colab.kernel.accessAllowed ? 'block' : 'none';\n",
              "\n",
              "        async function convertToInteractive(key) {\n",
              "          const element = document.querySelector('#df-f90225bf-ea66-456e-aee6-18fefb9896a2');\n",
              "          const dataTable =\n",
              "            await google.colab.kernel.invokeFunction('convertToInteractive',\n",
              "                                                     [key], {});\n",
              "          if (!dataTable) return;\n",
              "\n",
              "          const docLinkHtml = 'Like what you see? Visit the ' +\n",
              "            '<a target=\"_blank\" href=https://colab.research.google.com/notebooks/data_table.ipynb>data table notebook</a>'\n",
              "            + ' to learn more about interactive tables.';\n",
              "          element.innerHTML = '';\n",
              "          dataTable['output_type'] = 'display_data';\n",
              "          await google.colab.output.renderOutput(dataTable, element);\n",
              "          const docLink = document.createElement('div');\n",
              "          docLink.innerHTML = docLinkHtml;\n",
              "          element.appendChild(docLink);\n",
              "        }\n",
              "      </script>\n",
              "    </div>\n",
              "  </div>\n",
              "  "
            ],
            "text/plain": [
              "        PT_POIDS  PT_COTE  PT_CH_GAIN_PERYEAR  PT_CH_NBCS_WINS  \\\n",
              "0           61.0      4.5          1096666.67                2   \n",
              "1           61.0      5.3           192000.00                1   \n",
              "2           60.0     11.1           395500.00                0   \n",
              "3           60.0      8.5           620333.33                0   \n",
              "4           59.5     11.2            67166.67                0   \n",
              "...          ...      ...                 ...              ...   \n",
              "173749      57.0      6.5                0.00                0   \n",
              "173750      53.0     10.7                0.00                0   \n",
              "173751      54.0      6.6                0.00                0   \n",
              "173752      51.0     21.8                0.00                0   \n",
              "173753      54.0      2.8             8093.25                0   \n",
              "\n",
              "        PT_CH_NBCS_PLCS  PT_CH_NBCS_LOST  PT_CH_TX_WIN  PT_CH_TX_PLC  \\\n",
              "0                     2                0      0.400000      0.400000   \n",
              "1                     1                0      0.500000      0.500000   \n",
              "2                     0                3      0.222222      0.444444   \n",
              "3                     2                0      0.000000      0.666667   \n",
              "4                     1                0      0.181818      0.272727   \n",
              "...                 ...              ...           ...           ...   \n",
              "173749                0                1      0.000000      0.000000   \n",
              "173750                1                0      0.000000      1.000000   \n",
              "173751                0                1      0.000000      0.000000   \n",
              "173752                0                1      0.000000      0.000000   \n",
              "173753                1                0      0.000000      1.000000   \n",
              "\n",
              "        PT_CO_TX_WIN      PRED      AID_CR         AID_PT  TG_PLC  TG_WIN  \\\n",
              "0           0.082487  1.456755  150102R1C4  150102R1C4P01       1       1   \n",
              "1           0.047244  1.456755  150102R1C4  150102R1C4P02       0       0   \n",
              "2           0.137615  1.456755  150102R1C4  150102R1C4P03       0       0   \n",
              "3           0.089325  1.456755  150102R1C4  150102R1C4P04       0       0   \n",
              "4           0.208333  1.456755  150102R1C4  150102R1C4P05       1       0   \n",
              "...              ...       ...         ...            ...     ...     ...   \n",
              "173749      0.000000 -1.019080  171230R5C9  171230R5C9P04       0       0   \n",
              "173750      0.000000 -1.019080  171230R5C9  171230R5C9P05       0       0   \n",
              "173751      0.250000 -1.019080  171230R5C9  171230R5C9P06       1       0   \n",
              "173752      0.000000 -1.019080  171230R5C9  171230R5C9P07       0       0   \n",
              "173753      0.125000 -1.019080  171230R5C9  171230R5C9P08       1       0   \n",
              "\n",
              "        TG_PT_GAIN_W  TG_PT_GAIN_P  PT_COTE_OD_RAW  \n",
              "0                3.5         0.875             1.0  \n",
              "1               -1.0        -1.000             2.0  \n",
              "2               -1.0        -1.000             6.0  \n",
              "3               -1.0        -1.000             4.0  \n",
              "4               -1.0         2.550             6.0  \n",
              "...              ...           ...             ...  \n",
              "173749          -1.0        -1.000             3.0  \n",
              "173750          -1.0        -1.000             6.0  \n",
              "173751          -1.0         1.400             4.0  \n",
              "173752          -1.0        -1.000             6.0  \n",
              "173753          -1.0         0.450             1.0  \n",
              "\n",
              "[173754 rows x 17 columns]"
            ]
          },
          "execution_count": 43,
          "metadata": {},
          "output_type": "execute_result"
        }
      ],
      "source": [
        "sel"
      ]
    },
    {
      "cell_type": "markdown",
      "metadata": {
        "id": "QwE0L5KTil2J"
      },
      "source": [
        "### REGRESSION"
      ]
    },
    {
      "cell_type": "code",
      "execution_count": null,
      "metadata": {
        "colab": {
          "base_uri": "https://localhost:8080/"
        },
        "id": "jjUbvdHLWTDu",
        "outputId": "cc1fdf76-2f27-42f8-909b-1c1f26fc2a91"
      },
      "outputs": [
        {
          "data": {
            "text/plain": [
              "count    22959.000000\n",
              "mean        65.125683\n",
              "std         95.538653\n",
              "min          1.650000\n",
              "25%         16.350000\n",
              "50%         34.050000\n",
              "75%         73.350000\n",
              "max       2204.100000\n",
              "Name: TARGET, dtype: float64"
            ]
          },
          "execution_count": 91,
          "metadata": {},
          "output_type": "execute_result"
        }
      ],
      "source": [
        "# REGRESSION TARGET\n",
        "df['TARGET'] = df.TG_RPT_COUPLE\n",
        "df.TARGET.describe()"
      ]
    },
    {
      "cell_type": "code",
      "execution_count": null,
      "metadata": {
        "colab": {
          "base_uri": "https://localhost:8080/"
        },
        "id": "thMiFHSddwnX",
        "outputId": "655a179f-e3fd-46d3-b235-6ca9c345c5d3"
      },
      "outputs": [
        {
          "name": "stdout",
          "output_type": "stream",
          "text": [
            "trn : 8985\n",
            "val : 8986\n",
            "tst : 4988\n"
          ]
        }
      ],
      "source": [
        "data = split_seuil(df, 'AID_CR', '17', 0.5)\n",
        "ds_trn, ds_val, ds_tst = to_ds()\n",
        "all_inputs, encoded_features = create_input_layers()"
      ]
    },
    {
      "cell_type": "code",
      "execution_count": null,
      "metadata": {
        "id": "wf_YjiIjhXSh"
      },
      "outputs": [],
      "source": [
        "# MODEL\n",
        "all_features = tf.keras.layers.concatenate(encoded_features)\n",
        "x = tf.keras.layers.Dense(128, activation=\"relu\")(all_features)\n",
        "x = tf.keras.layers.Dropout(0.2)(x)\n",
        "x = tf.keras.layers.Dense(32)(x)\n",
        "x = tf.keras.layers.Dropout(0.2)(x)\n",
        "x = tf.keras.layers.Dense(64)(x)\n",
        "x = tf.keras.layers.Dropout(0.5)(x)\n",
        "x = tf.keras.layers.Dense(10)(x)\n",
        "output = tf.keras.layers.Dense(1)(x)\n",
        "\n",
        "model = tf.keras.Model(all_inputs, output)\n",
        "model.compile(  loss='mean_absolute_error',\n",
        "                optimizer=tf.keras.optimizers.Adam(0.001))"
      ]
    },
    {
      "cell_type": "code",
      "execution_count": null,
      "metadata": {
        "colab": {
          "base_uri": "https://localhost:8080/"
        },
        "id": "5VrdM3LulMxa",
        "outputId": "b6bfcbf2-1f58-4ff2-f542-93e30b9074f0"
      },
      "outputs": [
        {
          "name": "stdout",
          "output_type": "stream",
          "text": [
            "Epoch 1/10\n",
            "36/36 [==============================] - 3s 30ms/step - loss: 55.7482 - val_loss: 46.3085\n",
            "Epoch 2/10\n",
            "36/36 [==============================] - 1s 17ms/step - loss: 46.6504 - val_loss: 44.3585\n",
            "Epoch 3/10\n",
            "36/36 [==============================] - 1s 14ms/step - loss: 45.9775 - val_loss: 44.0480\n",
            "Epoch 4/10\n",
            "36/36 [==============================] - 1s 14ms/step - loss: 45.5354 - val_loss: 43.9789\n",
            "Epoch 5/10\n",
            "36/36 [==============================] - 1s 17ms/step - loss: 45.5195 - val_loss: 43.9255\n",
            "Epoch 6/10\n",
            "36/36 [==============================] - 1s 14ms/step - loss: 45.4936 - val_loss: 43.9433\n",
            "Epoch 7/10\n",
            "36/36 [==============================] - 1s 18ms/step - loss: 45.4961 - val_loss: 43.8753\n",
            "Epoch 8/10\n",
            "36/36 [==============================] - 1s 15ms/step - loss: 45.4307 - val_loss: 43.9098\n",
            "Epoch 9/10\n",
            "36/36 [==============================] - 1s 17ms/step - loss: 45.1459 - val_loss: 43.8502\n",
            "Epoch 10/10\n",
            "36/36 [==============================] - 1s 17ms/step - loss: 45.3728 - val_loss: 43.8624\n"
          ]
        },
        {
          "data": {
            "text/plain": [
              "<keras.callbacks.History at 0x7fd6968f9210>"
            ]
          },
          "execution_count": 94,
          "metadata": {},
          "output_type": "execute_result"
        }
      ],
      "source": [
        "model.fit(ds_trn, epochs=10, validation_data=ds_val)"
      ]
    },
    {
      "cell_type": "code",
      "execution_count": null,
      "metadata": {
        "colab": {
          "base_uri": "https://localhost:8080/"
        },
        "id": "zUn8uBtBmuqS",
        "outputId": "e8ea9bec-8a4e-4cdf-ea7b-91d5b26f4dc8"
      },
      "outputs": [
        {
          "name": "stderr",
          "output_type": "stream",
          "text": [
            "/usr/local/lib/python3.7/dist-packages/keras/engine/functional.py:559: UserWarning: Input dict contained keys ['AID_CR', 'AID_PT', 'TG_RPT_COUPLE', 'TARGET'] which did not match any model input. They will be ignored by the model.\n",
            "  inputs = self._flatten_to_reference_inputs(inputs)\n"
          ]
        },
        {
          "data": {
            "text/plain": [
              "count    4988.000000\n",
              "mean       39.459316\n",
              "std        24.360914\n",
              "min         4.495485\n",
              "25%        20.801239\n",
              "50%        32.163305\n",
              "75%        52.960384\n",
              "max       214.933823\n",
              "Name: PRED, dtype: float64"
            ]
          },
          "execution_count": 95,
          "metadata": {},
          "output_type": "execute_result"
        }
      ],
      "source": [
        "data['tst']['PRED'] = model.predict(dict(data['tst']))\n",
        "dr = data['tst']\n",
        "dr.PRED.describe()"
      ]
    },
    {
      "cell_type": "code",
      "execution_count": null,
      "metadata": {
        "colab": {
          "base_uri": "https://localhost:8080/"
        },
        "id": "oVzUK6oRm5iS",
        "outputId": "34b4a93f-d33d-4557-da09-b36714004b20"
      },
      "outputs": [
        {
          "name": "stdout",
          "output_type": "stream",
          "text": [
            "0.25821972734562953\n",
            "0.764751552795031\n"
          ]
        }
      ],
      "source": [
        "dr['TARGET2'] = dr.TG_RPT_COUPLE > 34.050000\n",
        "inseuil = dr[dr.PRED > 52]\n",
        "print(len(inseuil) / len(dr) )\n",
        "print(inseuil.TARGET2.mean())"
      ]
    },
    {
      "cell_type": "code",
      "execution_count": null,
      "metadata": {
        "id": "1rgbBAG-o3ea"
      },
      "outputs": [],
      "source": [
        "data['val']['PRED'] = model.predict(dict(data['val']))"
      ]
    },
    {
      "cell_type": "code",
      "execution_count": null,
      "metadata": {
        "colab": {
          "base_uri": "https://localhost:8080/",
          "height": 424
        },
        "id": "gBcq9UdMpE8p",
        "outputId": "9059cbf6-d3dc-4f28-87ce-0d64eaf01bd4"
      },
      "outputs": [
        {
          "data": {
            "text/html": [
              "\n",
              "  <div id=\"df-47eb9355-9f53-4f9d-8e72-d16182f9d81c\">\n",
              "    <div class=\"colab-df-container\">\n",
              "      <div>\n",
              "<style scoped>\n",
              "    .dataframe tbody tr th:only-of-type {\n",
              "        vertical-align: middle;\n",
              "    }\n",
              "\n",
              "    .dataframe tbody tr th {\n",
              "        vertical-align: top;\n",
              "    }\n",
              "\n",
              "    .dataframe thead th {\n",
              "        text-align: right;\n",
              "    }\n",
              "</style>\n",
              "<table border=\"1\" class=\"dataframe\">\n",
              "  <thead>\n",
              "    <tr style=\"text-align: right;\">\n",
              "      <th></th>\n",
              "      <th>AID_CR</th>\n",
              "      <th>PRED</th>\n",
              "    </tr>\n",
              "  </thead>\n",
              "  <tbody>\n",
              "    <tr>\n",
              "      <th>317801</th>\n",
              "      <td>141203R3C3</td>\n",
              "      <td>26.562881</td>\n",
              "    </tr>\n",
              "    <tr>\n",
              "      <th>447243</th>\n",
              "      <td>161229R2C3</td>\n",
              "      <td>35.309387</td>\n",
              "    </tr>\n",
              "    <tr>\n",
              "      <th>210566</th>\n",
              "      <td>130208R6C3</td>\n",
              "      <td>25.249926</td>\n",
              "    </tr>\n",
              "    <tr>\n",
              "      <th>229506</th>\n",
              "      <td>130606R4C9</td>\n",
              "      <td>111.255569</td>\n",
              "    </tr>\n",
              "    <tr>\n",
              "      <th>348036</th>\n",
              "      <td>150603R4C5</td>\n",
              "      <td>67.045296</td>\n",
              "    </tr>\n",
              "    <tr>\n",
              "      <th>...</th>\n",
              "      <td>...</td>\n",
              "      <td>...</td>\n",
              "    </tr>\n",
              "    <tr>\n",
              "      <th>406276</th>\n",
              "      <td>160514R3C8</td>\n",
              "      <td>40.481945</td>\n",
              "    </tr>\n",
              "    <tr>\n",
              "      <th>218005</th>\n",
              "      <td>130327R3C5</td>\n",
              "      <td>34.076881</td>\n",
              "    </tr>\n",
              "    <tr>\n",
              "      <th>277318</th>\n",
              "      <td>140326R6C7</td>\n",
              "      <td>26.906385</td>\n",
              "    </tr>\n",
              "    <tr>\n",
              "      <th>294967</th>\n",
              "      <td>140714R5C3</td>\n",
              "      <td>21.963474</td>\n",
              "    </tr>\n",
              "    <tr>\n",
              "      <th>342013</th>\n",
              "      <td>150427R4C6</td>\n",
              "      <td>16.049969</td>\n",
              "    </tr>\n",
              "  </tbody>\n",
              "</table>\n",
              "<p>8986 rows × 2 columns</p>\n",
              "</div>\n",
              "      <button class=\"colab-df-convert\" onclick=\"convertToInteractive('df-47eb9355-9f53-4f9d-8e72-d16182f9d81c')\"\n",
              "              title=\"Convert this dataframe to an interactive table.\"\n",
              "              style=\"display:none;\">\n",
              "        \n",
              "  <svg xmlns=\"http://www.w3.org/2000/svg\" height=\"24px\"viewBox=\"0 0 24 24\"\n",
              "       width=\"24px\">\n",
              "    <path d=\"M0 0h24v24H0V0z\" fill=\"none\"/>\n",
              "    <path d=\"M18.56 5.44l.94 2.06.94-2.06 2.06-.94-2.06-.94-.94-2.06-.94 2.06-2.06.94zm-11 1L8.5 8.5l.94-2.06 2.06-.94-2.06-.94L8.5 2.5l-.94 2.06-2.06.94zm10 10l.94 2.06.94-2.06 2.06-.94-2.06-.94-.94-2.06-.94 2.06-2.06.94z\"/><path d=\"M17.41 7.96l-1.37-1.37c-.4-.4-.92-.59-1.43-.59-.52 0-1.04.2-1.43.59L10.3 9.45l-7.72 7.72c-.78.78-.78 2.05 0 2.83L4 21.41c.39.39.9.59 1.41.59.51 0 1.02-.2 1.41-.59l7.78-7.78 2.81-2.81c.8-.78.8-2.07 0-2.86zM5.41 20L4 18.59l7.72-7.72 1.47 1.35L5.41 20z\"/>\n",
              "  </svg>\n",
              "      </button>\n",
              "      \n",
              "  <style>\n",
              "    .colab-df-container {\n",
              "      display:flex;\n",
              "      flex-wrap:wrap;\n",
              "      gap: 12px;\n",
              "    }\n",
              "\n",
              "    .colab-df-convert {\n",
              "      background-color: #E8F0FE;\n",
              "      border: none;\n",
              "      border-radius: 50%;\n",
              "      cursor: pointer;\n",
              "      display: none;\n",
              "      fill: #1967D2;\n",
              "      height: 32px;\n",
              "      padding: 0 0 0 0;\n",
              "      width: 32px;\n",
              "    }\n",
              "\n",
              "    .colab-df-convert:hover {\n",
              "      background-color: #E2EBFA;\n",
              "      box-shadow: 0px 1px 2px rgba(60, 64, 67, 0.3), 0px 1px 3px 1px rgba(60, 64, 67, 0.15);\n",
              "      fill: #174EA6;\n",
              "    }\n",
              "\n",
              "    [theme=dark] .colab-df-convert {\n",
              "      background-color: #3B4455;\n",
              "      fill: #D2E3FC;\n",
              "    }\n",
              "\n",
              "    [theme=dark] .colab-df-convert:hover {\n",
              "      background-color: #434B5C;\n",
              "      box-shadow: 0px 1px 3px 1px rgba(0, 0, 0, 0.15);\n",
              "      filter: drop-shadow(0px 1px 2px rgba(0, 0, 0, 0.3));\n",
              "      fill: #FFFFFF;\n",
              "    }\n",
              "  </style>\n",
              "\n",
              "      <script>\n",
              "        const buttonEl =\n",
              "          document.querySelector('#df-47eb9355-9f53-4f9d-8e72-d16182f9d81c button.colab-df-convert');\n",
              "        buttonEl.style.display =\n",
              "          google.colab.kernel.accessAllowed ? 'block' : 'none';\n",
              "\n",
              "        async function convertToInteractive(key) {\n",
              "          const element = document.querySelector('#df-47eb9355-9f53-4f9d-8e72-d16182f9d81c');\n",
              "          const dataTable =\n",
              "            await google.colab.kernel.invokeFunction('convertToInteractive',\n",
              "                                                     [key], {});\n",
              "          if (!dataTable) return;\n",
              "\n",
              "          const docLinkHtml = 'Like what you see? Visit the ' +\n",
              "            '<a target=\"_blank\" href=https://colab.research.google.com/notebooks/data_table.ipynb>data table notebook</a>'\n",
              "            + ' to learn more about interactive tables.';\n",
              "          element.innerHTML = '';\n",
              "          dataTable['output_type'] = 'display_data';\n",
              "          await google.colab.output.renderOutput(dataTable, element);\n",
              "          const docLink = document.createElement('div');\n",
              "          docLink.innerHTML = docLinkHtml;\n",
              "          element.appendChild(docLink);\n",
              "        }\n",
              "      </script>\n",
              "    </div>\n",
              "  </div>\n",
              "  "
            ],
            "text/plain": [
              "            AID_CR        PRED\n",
              "317801  141203R3C3   26.562881\n",
              "447243  161229R2C3   35.309387\n",
              "210566  130208R6C3   25.249926\n",
              "229506  130606R4C9  111.255569\n",
              "348036  150603R4C5   67.045296\n",
              "...            ...         ...\n",
              "406276  160514R3C8   40.481945\n",
              "218005  130327R3C5   34.076881\n",
              "277318  140326R6C7   26.906385\n",
              "294967  140714R5C3   21.963474\n",
              "342013  150427R4C6   16.049969\n",
              "\n",
              "[8986 rows x 2 columns]"
            ]
          },
          "execution_count": 100,
          "metadata": {},
          "output_type": "execute_result"
        }
      ],
      "source": [
        "dv = data['val'][['AID_CR', 'PRED']]\n",
        "dv"
      ]
    },
    {
      "cell_type": "code",
      "execution_count": null,
      "metadata": {
        "id": "1aPT5a6EpdOb"
      },
      "outputs": [],
      "source": [
        "all2 = all.copy()\n",
        "all2 = all2.merge(dr, on='AID_CR', how='left')\n",
        "all2 = all2.rename(columns={\"PRED\": \"CX_PRED\"})"
      ]
    },
    {
      "cell_type": "code",
      "execution_count": null,
      "metadata": {
        "colab": {
          "base_uri": "https://localhost:8080/"
        },
        "id": "neLezvo9p3l9",
        "outputId": "d0c917af-9aa6-46bb-febd-0de3342e9b0e"
      },
      "outputs": [
        {
          "data": {
            "text/plain": [
              "317801   NaN\n",
              "317802   NaN\n",
              "317803   NaN\n",
              "317804   NaN\n",
              "317805   NaN\n",
              "317806   NaN\n",
              "317807   NaN\n",
              "317808   NaN\n",
              "317809   NaN\n",
              "317810   NaN\n",
              "317811   NaN\n",
              "317812   NaN\n",
              "317813   NaN\n",
              "317814   NaN\n",
              "Name: CX_PRED, dtype: float32"
            ]
          },
          "execution_count": 38,
          "metadata": {},
          "output_type": "execute_result"
        }
      ],
      "source": [
        "all2[all2.AID_CR == '141203R3C3'].CX_PRED"
      ]
    },
    {
      "cell_type": "code",
      "execution_count": null,
      "metadata": {
        "id": "lmMumf7epMMp"
      },
      "outputs": [],
      "source": [
        "numerical_cols = ['PT_POIDS', 'PT_COTE', 'PT_CH_GAIN_PERYEAR', 'PT_CH_NBCS_WINS', 'PT_CH_NBCS_PLCS', 'PT_CH_NBCS_LOST', 'PT_CH_TX_WIN', 'PT_CH_TX_PLC', 'PT_CO_TX_WIN', 'CX_PRED']\n",
        "#numerical_cols = ['PT_CH_TX_WIN', 'PT_CH_TX_PLC', 'PT_CO_TX_WIN']\n",
        "#cat_int_cols = [ 'PT_COTE_OD_RAW', 'PT_CH_AGE']\n",
        "cat_int_cols = []\n",
        "cat_str_cols = []\n",
        "non_feature_cols = ['AID_CR', 'AID_PT', 'TG_PLC', 'TG_WIN','TG_PT_GAIN_W','TG_PT_GAIN_P', 'PT_COTE_OD_RAW']\n",
        "features_cols = numerical_cols + cat_int_cols + cat_str_cols\n",
        "sel = all2[numerical_cols + non_feature_cols + cat_int_cols + cat_str_cols]"
      ]
    },
    {
      "cell_type": "code",
      "execution_count": null,
      "metadata": {
        "id": "A58_x6XcrfaH"
      },
      "outputs": [],
      "source": [
        "sel = sel[pd.notna(sel.CX_PRED)]"
      ]
    },
    {
      "cell_type": "markdown",
      "metadata": {
        "id": "O3rVrtLgRY0r"
      },
      "source": [
        "##Q1 = Par participation"
      ]
    },
    {
      "cell_type": "code",
      "execution_count": null,
      "metadata": {
        "id": "ouy9NY1IS0Ir"
      },
      "outputs": [],
      "source": [
        "numerical_cols = ['CX_PRESENTS','PT_CH_AGE_OD','PT_CORDE_OD','PT_POIDS', 'PT_COTE','PT_CH_GAIN_PERYEAR', 'PT_CH_NBCS_WINS', 'PT_CH_NBCS_PLCS', 'PT_CH_NBCS_LOST', 'PT_CH_TX_WIN', 'PT_CH_TX_PLC','PT_CH_POIDS_IFPLC_AVG','PT_CO_TX_WIN']\n",
        "cat_int_cols = [ 'PT_CH_SEXE', 'PT_CH_OEILLERE']\n",
        "cat_str_cols = []\n",
        "non_feature_cols = ['AID_CR', 'AID_PT', 'TG_PLC', 'TG_WIN','TG_PT_GAIN_W','TG_PT_GAIN_P', 'PT_COTE_OD_RAW', 'CO_NOM']\n",
        "features_cols = numerical_cols + cat_int_cols + cat_str_cols\n",
        "sel = all[numerical_cols + non_feature_cols + cat_int_cols + cat_str_cols]"
      ]
    },
    {
      "cell_type": "code",
      "execution_count": null,
      "metadata": {
        "colab": {
          "base_uri": "https://localhost:8080/"
        },
        "id": "XEOkm-WGOK2W",
        "outputId": "1fa0433b-61d4-429f-e3e6-4f9ac57badb3"
      },
      "outputs": [
        {
          "output_type": "stream",
          "name": "stdout",
          "text": [
            "0    281294\n",
            "1     46262\n",
            "Name: TARGET, dtype: int64\n"
          ]
        }
      ],
      "source": [
        "# SELECTION 1 : on prend que les cas ou la cote est > seuil, et on train/test avec ça, target = si placé \n",
        "df = sel[sel.PT_COTE > 10].copy()\n",
        "df['TARGET'] = df.TG_PLC\n",
        "#df['TARGET'] = df.TG_PLC * 2 - 1\n",
        "\n",
        "print(df['TARGET'].value_counts())\n",
        "\n",
        "#neg, pos = np.bincount(df['TARGET'])\n",
        "#total = neg + pos\n",
        "\n",
        "#print(pos, neg, total)\n",
        "#w_0 = (1/neg) * (total/2)\n",
        "#w_1 = (1/pos) * (total/2)\n",
        "#weights = {0: w_0, 1: w_1}\n",
        "#print(weights)"
      ]
    },
    {
      "cell_type": "code",
      "execution_count": null,
      "metadata": {
        "colab": {
          "base_uri": "https://localhost:8080/"
        },
        "id": "poV2XncTbi7R",
        "outputId": "b8e83ba1-063b-409c-b49d-fbb1c4d0baf1"
      },
      "outputs": [
        {
          "output_type": "stream",
          "name": "stdout",
          "text": [
            "trn : 258554\n",
            "val : 28729\n",
            "tst : 40273\n",
            "\n",
            "0    221815\n",
            "1     36739\n",
            "Name: TARGET, dtype: int64\n"
          ]
        }
      ],
      "source": [
        "data = utl.split_seuil(df, 'AID_CR', '17', 0.1)\n",
        "print()\n",
        "print(data['trn']['TARGET'].value_counts())"
      ]
    },
    {
      "cell_type": "code",
      "execution_count": null,
      "metadata": {
        "colab": {
          "base_uri": "https://localhost:8080/"
        },
        "id": "wISwjwSngrbF",
        "outputId": "ffa6cde8-9573-4e68-88fd-2d16bfc324f7"
      },
      "outputs": [
        {
          "output_type": "stream",
          "name": "stdout",
          "text": [
            "Liste des valeurs à équilibrée sur TARGET: \n",
            "{0: 221815, 1: 36739}\n",
            "Valeur cible de l'équilibrage : 221815\n",
            "Liste des valeurs après équilibrage : \n",
            "{0: 221815, 1: 129277}\n",
            "0    221815\n",
            "1    129277\n",
            "Name: TARGET, dtype: int64\n"
          ]
        }
      ],
      "source": [
        "data['trn'] = utl.balance(data['trn'], frac=0.5)\n",
        "print(data['trn']['TARGET'].value_counts())"
      ]
    },
    {
      "cell_type": "markdown",
      "metadata": {
        "id": "PuX1_GzNeR_h"
      },
      "source": [
        "## EXECUTION"
      ]
    },
    {
      "cell_type": "code",
      "execution_count": null,
      "metadata": {
        "id": "9N0gIzvjXXrm"
      },
      "outputs": [],
      "source": [
        "# STANDARD LOSS\n",
        "ds_trn, ds_val, ds_tst = to_ds(data, features_cols, targets_name=['TARGET'])\n",
        "all_inputs, encoded_features,_ = create_input_layers(dataset=ds_trn)"
      ]
    },
    {
      "cell_type": "code",
      "source": [
        "# CUSTOM LOSS\n",
        "from keras import backend as K\n",
        "\n",
        "X,y = to_tensors(data['trn'])\n",
        "all_inputs, encoded_features, features_dict = create_input_layers(dataframe=X)\n",
        "\n",
        "def example_loss(data, y_pred):\n",
        "  #y_true = data\n",
        "  y_true = data[:,0:1]\n",
        "  i = data[:,1:2]\n",
        "  print(y_true)\n",
        "  print(i)\n",
        "  return K.mean(K.square(y_pred - y_true), axis=1)\n",
        "\n",
        "def custom_loss(y_true, y_pred):\n",
        "  '''\n",
        "  Si je joue un perdant, je perds 1 : y_pred>0.5 & y=0 => -g\n",
        "  Si je joue un gagnant, je perds - TG_PT_GAIN_P : y_pred>0.5 & y = 1 => -g\n",
        "  Si je ne joue pas un perdant, je perds 0 : y_pred<0.5 & y=0 => 0\n",
        "  Si je ne joue pas un gagnant, je perds TG_PT_GAIN_P : y_pred<0.5 & y=1 => g\n",
        "\n",
        "  (y_pred>0.5) * g + (y_pred<0.5) * y * g * -1\n",
        "  '''\n",
        "  y = y_true[:, 0:1]\n",
        "  g = y_true[:, 1:2]\n",
        "  \n",
        "  pg = tf.maximum(y_pred-0.499,0)\n",
        "  pg = tf.minimum(pg * 10000, 1)\n",
        "  pl = 1 - pg\n",
        "  l = (y_pred-0.5) * pg * g * -1 + (1-y_pred) * pl * y * g \n",
        "  #return K.mean(l * y_pred)\n",
        "  return K.mean(l, axis=0)\n",
        "\n",
        "  #term_0 = (1 - y) * K.log(1 - y_pred + K.epsilon())  \n",
        "  #term_1 = y * K.log(y_pred + K.epsilon())\n",
        "  #return -K.mean((term_0 + term_1), axis=0)\n",
        "\n",
        "# TESTER CUSTOM LOSS\n",
        "true = K.variable(np.array([[0, -1]]), dtype='float32')\n",
        "pred = K.variable(np.array([[0.2]]), dtype='float32')\n",
        "\n",
        "K.eval(custom_loss(true, pred))"
      ],
      "metadata": {
        "id": "6Y0UStiJXqSE"
      },
      "execution_count": null,
      "outputs": []
    },
    {
      "cell_type": "code",
      "execution_count": null,
      "metadata": {
        "colab": {
          "base_uri": "https://localhost:8080/"
        },
        "id": "E2gdbyDOIYnD",
        "outputId": "2bfbf393-496a-46af-dacc-1de3d1fbdd33"
      },
      "outputs": [
        {
          "output_type": "stream",
          "name": "stdout",
          "text": [
            "Model: \"model_1\"\n",
            "__________________________________________________________________________________________________\n",
            " Layer (type)                   Output Shape         Param #     Connected to                     \n",
            "==================================================================================================\n",
            " PT_CH_SEXE (InputLayer)        [(None, 1)]          0           []                               \n",
            "                                                                                                  \n",
            " PT_CH_OEILLERE (InputLayer)    [(None, 1)]          0           []                               \n",
            "                                                                                                  \n",
            " integer_lookup_2 (IntegerLooku  (None, 1)           0           ['PT_CH_SEXE[0][0]']             \n",
            " p)                                                                                               \n",
            "                                                                                                  \n",
            " integer_lookup_3 (IntegerLooku  (None, 1)           0           ['PT_CH_OEILLERE[0][0]']         \n",
            " p)                                                                                               \n",
            "                                                                                                  \n",
            " CX_PRESENTS (InputLayer)       [(None, 1)]          0           []                               \n",
            "                                                                                                  \n",
            " PT_CH_AGE_OD (InputLayer)      [(None, 1)]          0           []                               \n",
            "                                                                                                  \n",
            " PT_CORDE_OD (InputLayer)       [(None, 1)]          0           []                               \n",
            "                                                                                                  \n",
            " PT_POIDS (InputLayer)          [(None, 1)]          0           []                               \n",
            "                                                                                                  \n",
            " PT_COTE (InputLayer)           [(None, 1)]          0           []                               \n",
            "                                                                                                  \n",
            " PT_CH_GAIN_PERYEAR (InputLayer  [(None, 1)]         0           []                               \n",
            " )                                                                                                \n",
            "                                                                                                  \n",
            " PT_CH_NBCS_WINS (InputLayer)   [(None, 1)]          0           []                               \n",
            "                                                                                                  \n",
            " PT_CH_NBCS_PLCS (InputLayer)   [(None, 1)]          0           []                               \n",
            "                                                                                                  \n",
            " PT_CH_NBCS_LOST (InputLayer)   [(None, 1)]          0           []                               \n",
            "                                                                                                  \n",
            " PT_CH_TX_WIN (InputLayer)      [(None, 1)]          0           []                               \n",
            "                                                                                                  \n",
            " PT_CH_TX_PLC (InputLayer)      [(None, 1)]          0           []                               \n",
            "                                                                                                  \n",
            " PT_CH_POIDS_IFPLC_AVG (InputLa  [(None, 1)]         0           []                               \n",
            " yer)                                                                                             \n",
            "                                                                                                  \n",
            " PT_CO_TX_WIN (InputLayer)      [(None, 1)]          0           []                               \n",
            "                                                                                                  \n",
            " category_encoding_2 (CategoryE  (None, 4)           0           ['integer_lookup_2[0][0]']       \n",
            " ncoding)                                                                                         \n",
            "                                                                                                  \n",
            " category_encoding_3 (CategoryE  (None, 3)           0           ['integer_lookup_3[0][0]']       \n",
            " ncoding)                                                                                         \n",
            "                                                                                                  \n",
            " normalization_13 (Normalizatio  (None, 1)           3           ['CX_PRESENTS[0][0]']            \n",
            " n)                                                                                               \n",
            "                                                                                                  \n",
            " normalization_14 (Normalizatio  (None, 1)           3           ['PT_CH_AGE_OD[0][0]']           \n",
            " n)                                                                                               \n",
            "                                                                                                  \n",
            " normalization_15 (Normalizatio  (None, 1)           3           ['PT_CORDE_OD[0][0]']            \n",
            " n)                                                                                               \n",
            "                                                                                                  \n",
            " normalization_16 (Normalizatio  (None, 1)           3           ['PT_POIDS[0][0]']               \n",
            " n)                                                                                               \n",
            "                                                                                                  \n",
            " normalization_17 (Normalizatio  (None, 1)           3           ['PT_COTE[0][0]']                \n",
            " n)                                                                                               \n",
            "                                                                                                  \n",
            " normalization_18 (Normalizatio  (None, 1)           3           ['PT_CH_GAIN_PERYEAR[0][0]']     \n",
            " n)                                                                                               \n",
            "                                                                                                  \n",
            " normalization_19 (Normalizatio  (None, 1)           3           ['PT_CH_NBCS_WINS[0][0]']        \n",
            " n)                                                                                               \n",
            "                                                                                                  \n",
            " normalization_20 (Normalizatio  (None, 1)           3           ['PT_CH_NBCS_PLCS[0][0]']        \n",
            " n)                                                                                               \n",
            "                                                                                                  \n",
            " normalization_21 (Normalizatio  (None, 1)           3           ['PT_CH_NBCS_LOST[0][0]']        \n",
            " n)                                                                                               \n",
            "                                                                                                  \n",
            " normalization_22 (Normalizatio  (None, 1)           3           ['PT_CH_TX_WIN[0][0]']           \n",
            " n)                                                                                               \n",
            "                                                                                                  \n",
            " normalization_23 (Normalizatio  (None, 1)           3           ['PT_CH_TX_PLC[0][0]']           \n",
            " n)                                                                                               \n",
            "                                                                                                  \n",
            " normalization_24 (Normalizatio  (None, 1)           3           ['PT_CH_POIDS_IFPLC_AVG[0][0]']  \n",
            " n)                                                                                               \n",
            "                                                                                                  \n",
            " normalization_25 (Normalizatio  (None, 1)           3           ['PT_CO_TX_WIN[0][0]']           \n",
            " n)                                                                                               \n",
            "                                                                                                  \n",
            " concatenate_1 (Concatenate)    (None, 20)           0           ['category_encoding_2[0][0]',    \n",
            "                                                                  'category_encoding_3[0][0]',    \n",
            "                                                                  'normalization_13[0][0]',       \n",
            "                                                                  'normalization_14[0][0]',       \n",
            "                                                                  'normalization_15[0][0]',       \n",
            "                                                                  'normalization_16[0][0]',       \n",
            "                                                                  'normalization_17[0][0]',       \n",
            "                                                                  'normalization_18[0][0]',       \n",
            "                                                                  'normalization_19[0][0]',       \n",
            "                                                                  'normalization_20[0][0]',       \n",
            "                                                                  'normalization_21[0][0]',       \n",
            "                                                                  'normalization_22[0][0]',       \n",
            "                                                                  'normalization_23[0][0]',       \n",
            "                                                                  'normalization_24[0][0]',       \n",
            "                                                                  'normalization_25[0][0]']       \n",
            "                                                                                                  \n",
            " dense_3 (Dense)                (None, 60)           1260        ['concatenate_1[0][0]']          \n",
            "                                                                                                  \n",
            " dropout_1 (Dropout)            (None, 60)           0           ['dense_3[0][0]']                \n",
            "                                                                                                  \n",
            " dense_4 (Dense)                (None, 10)           610         ['dropout_1[0][0]']              \n",
            "                                                                                                  \n",
            " dense_5 (Dense)                (None, 1)            11          ['dense_4[0][0]']                \n",
            "                                                                                                  \n",
            "==================================================================================================\n",
            "Total params: 1,920\n",
            "Trainable params: 1,881\n",
            "Non-trainable params: 39\n",
            "__________________________________________________________________________________________________\n"
          ]
        }
      ],
      "source": [
        "output_dim = 1\n",
        "METRICS = [\n",
        "      tf.keras.metrics.BinaryAccuracy(name='accuracy'),\n",
        "      tf.keras.metrics.Precision(name='precision'),\n",
        "      tf.keras.metrics.Recall(name='recall'),\n",
        "      tf.keras.metrics.AUC(name='auc'),\n",
        "      tf.keras.metrics.AUC(name='prc', curve='PR')\n",
        "]\n",
        "\n",
        "\n",
        "all_features = tf.keras.layers.concatenate(encoded_features)\n",
        "x = tf.keras.layers.Dense(60, activation=\"relu\")(all_features)\n",
        "x = tf.keras.layers.Dropout(0.5)(x)\n",
        "x = tf.keras.layers.Dense(10, activation=\"relu\")(x)\n",
        "output = tf.keras.layers.Dense(output_dim, activation=\"sigmoid\")(x)\n",
        "\n",
        "model = tf.keras.Model(all_inputs, output)\n",
        "# CLASSIFICATION\n",
        "#model.compile(optimizer='Nadam', loss='binary_focal_crossentropy', metrics=METRICS)\n",
        "model.compile(optimizer='Nadam', loss='binary_crossentropy', metrics=METRICS)\n",
        "#model.compile(optimizer='Nadam', loss='hinge', metrics=METRICS)\n",
        "#model.compile(optimizer='Nadam', loss=custom_loss) #, metrics=METRICS\n",
        "\n",
        "model.summary() "
      ]
    },
    {
      "cell_type": "code",
      "execution_count": null,
      "metadata": {
        "id": "LWV_E5U3XHjC"
      },
      "outputs": [],
      "source": [
        "# Use `rankdir='LR'` to make the graph horizontal.\n",
        "tf.keras.utils.plot_model(model, show_shapes=True, rankdir=\"LR\")"
      ]
    },
    {
      "cell_type": "code",
      "execution_count": null,
      "metadata": {
        "id": "dZkvFCVLXzN9"
      },
      "outputs": [],
      "source": [
        "# FIT WEIGHTED\n",
        "fit_history = model.fit(ds_trn, epochs=10, validation_data=ds_val, class_weight=weights)"
      ]
    },
    {
      "cell_type": "code",
      "execution_count": null,
      "metadata": {
        "id": "j5_mgbIud3p8",
        "colab": {
          "base_uri": "https://localhost:8080/"
        },
        "outputId": "443474ca-1793-4926-d504-6454a8a916c8"
      },
      "outputs": [
        {
          "output_type": "stream",
          "name": "stdout",
          "text": [
            "Epoch 1/5\n",
            "1372/1372 [==============================] - 14s 5ms/step - loss: 0.6499 - accuracy: 0.6230 - precision: 0.4667 - recall: 0.1665 - auc: 0.6106 - prc: 0.4393 - val_loss: 0.5061 - val_accuracy: 0.8355 - val_precision: 0.2656 - val_recall: 0.1084 - val_auc: 0.6514 - val_prc: 0.2149\n",
            "Epoch 2/5\n",
            "1372/1372 [==============================] - 9s 5ms/step - loss: 0.6272 - accuracy: 0.6402 - precision: 0.5372 - recall: 0.1659 - auc: 0.6456 - prc: 0.4849 - val_loss: 0.4984 - val_accuracy: 0.8288 - val_precision: 0.2615 - val_recall: 0.1316 - val_auc: 0.6559 - val_prc: 0.2180\n",
            "Epoch 3/5\n",
            "1372/1372 [==============================] - 9s 5ms/step - loss: 0.6243 - accuracy: 0.6430 - precision: 0.5395 - recall: 0.2079 - auc: 0.6514 - prc: 0.4918 - val_loss: 0.5028 - val_accuracy: 0.8146 - val_precision: 0.2641 - val_recall: 0.1916 - val_auc: 0.6583 - val_prc: 0.2215\n",
            "Epoch 4/5\n",
            "1372/1372 [==============================] - 9s 5ms/step - loss: 0.6226 - accuracy: 0.6447 - precision: 0.5400 - recall: 0.2367 - auc: 0.6549 - prc: 0.4974 - val_loss: 0.4893 - val_accuracy: 0.8380 - val_precision: 0.2805 - val_recall: 0.1107 - val_auc: 0.6601 - val_prc: 0.2258\n",
            "Epoch 5/5\n",
            "1372/1372 [==============================] - 9s 5ms/step - loss: 0.6215 - accuracy: 0.6463 - precision: 0.5424 - recall: 0.2524 - auc: 0.6571 - prc: 0.5003 - val_loss: 0.5038 - val_accuracy: 0.8063 - val_precision: 0.2618 - val_recall: 0.2213 - val_auc: 0.6598 - val_prc: 0.2248\n"
          ]
        }
      ],
      "source": [
        "# FIT STANDARD\n",
        "fit_history = model.fit(ds_trn, epochs=5, validation_data=ds_val)"
      ]
    },
    {
      "cell_type": "code",
      "execution_count": null,
      "metadata": {
        "id": "M8dRshsTIyUw"
      },
      "outputs": [],
      "source": [
        "# FIT AVEC CUSTOM LOSS\n",
        "fit_history = model.fit(dict(X),np.append(data['trn'][[\"TARGET\"]], data['trn'][[\"TG_PT_GAIN_P\"]], axis=1), batch_size = 512, epochs=10, verbose=1)"
      ]
    },
    {
      "cell_type": "code",
      "execution_count": null,
      "metadata": {
        "id": "9N9MR-jIX-PW"
      },
      "outputs": [],
      "source": [
        "plot_metrics(fit_history)"
      ]
    },
    {
      "cell_type": "code",
      "execution_count": null,
      "metadata": {
        "id": "hcJS2FXqgNmd"
      },
      "outputs": [],
      "source": [
        "weighted_results = model.evaluate(ds_tst)\n",
        "for name, value in zip(model.metrics_names, weighted_results):\n",
        "  print(name, ': ', value)"
      ]
    },
    {
      "cell_type": "code",
      "execution_count": null,
      "metadata": {
        "colab": {
          "base_uri": "https://localhost:8080/",
          "height": 477
        },
        "id": "W_Mwr9cOavbG",
        "outputId": "5941d5d8-e134-4e23-d439-aab7385007af"
      },
      "outputs": [
        {
          "output_type": "stream",
          "name": "stderr",
          "text": [
            "/usr/local/lib/python3.7/dist-packages/keras/engine/functional.py:559: UserWarning: Input dict contained keys ['AID_CR', 'AID_PT', 'TG_PLC', 'TG_WIN', 'TG_PT_GAIN_W', 'TG_PT_GAIN_P', 'PT_COTE_OD_RAW', 'TARGET'] which did not match any model input. They will be ignored by the model.\n",
            "  inputs = self._flatten_to_reference_inputs(inputs)\n"
          ]
        },
        {
          "output_type": "stream",
          "name": "stdout",
          "text": [
            "PAS PLACE OK (True Negatives):  30930\n",
            "PLACE KO (False Positives):  3787\n",
            "PAS PLACE KO (False Negatives):  4277\n",
            "PLACE OK (True Positives):  1279\n"
          ]
        },
        {
          "output_type": "display_data",
          "data": {
            "text/plain": [
              "<Figure size 360x360 with 2 Axes>"
            ],
            "image/png": "[encoded data removed]"
          },
          "metadata": {
            "needs_background": "light"
          }
        }
      ],
      "source": [
        "data['tst']['PRED'] = model.predict(dict(data['tst']))\n",
        "dr = data['tst']\n",
        "plot_cm(dr.TARGET, dr.PRED)"
      ]
    },
    {
      "cell_type": "code",
      "execution_count": null,
      "metadata": {
        "colab": {
          "base_uri": "https://localhost:8080/"
        },
        "id": "CSTYw6ZubPg8",
        "outputId": "3aabae81-7e4a-40c2-e25d-9a9842b0b514"
      },
      "outputs": [
        {
          "output_type": "execute_result",
          "data": {
            "text/plain": [
              "count    55321.000000\n",
              "mean         0.358386\n",
              "std          0.164123\n",
              "min          0.000681\n",
              "25%          0.224211\n",
              "50%          0.352238\n",
              "75%          0.509844\n",
              "max          0.678611\n",
              "Name: PRED, dtype: float64"
            ]
          },
          "metadata": {},
          "execution_count": 15
        }
      ],
      "source": [
        "dr.PRED.describe()"
      ]
    },
    {
      "cell_type": "code",
      "execution_count": null,
      "metadata": {
        "colab": {
          "base_uri": "https://localhost:8080/"
        },
        "id": "FjToP3Drbq6U",
        "outputId": "17ee101e-133d-44c4-92d3-e09a016995f7"
      },
      "outputs": [
        {
          "output_type": "execute_result",
          "data": {
            "text/plain": [
              "count    55321.000000\n",
              "mean        24.407967\n",
              "std         22.440965\n",
              "min          5.100000\n",
              "25%          9.600000\n",
              "50%         17.000000\n",
              "75%         29.500000\n",
              "max        353.100000\n",
              "Name: PT_COTE, dtype: float64"
            ]
          },
          "metadata": {},
          "execution_count": 24
        }
      ],
      "source": [
        "dr.PT_COTE.describe()"
      ]
    },
    {
      "cell_type": "code",
      "execution_count": null,
      "metadata": {
        "colab": {
          "base_uri": "https://localhost:8080/"
        },
        "id": "YqwuuLBrmA0I",
        "outputId": "5dc24576-5583-468f-8c43-a83a46731d44"
      },
      "outputs": [
        {
          "output_type": "stream",
          "name": "stdout",
          "text": [
            "40273\n",
            "5066\n",
            "0.2524674299249901\n"
          ]
        }
      ],
      "source": [
        "joue_ia = dr[dr.PRED > 0.5]\n",
        "print(len(dr))\n",
        "print(len(joue_ia))\n",
        "print(joue_ia.TG_PLC.mean())"
      ]
    },
    {
      "cell_type": "code",
      "execution_count": null,
      "metadata": {
        "colab": {
          "base_uri": "https://localhost:8080/"
        },
        "id": "3VCqhxE6m8uJ",
        "outputId": "8ea33cdd-eeac-4179-857c-b56f04fd73d9"
      },
      "outputs": [
        {
          "output_type": "stream",
          "name": "stdout",
          "text": [
            "GAGNANT\n",
            "          joués       corrects     % corrects       gains         roi\n",
            "ia         5066            361           7.13     -722.50      -14.26\n",
            "hu            1              0           0.00       -1.00     -100.00\n",
            "go         1463           1463         100.00    28023.50     1915.48\n",
            "\n",
            "PLACE\n",
            "          joués       corrects     % corrects       gains         roi\n",
            "ia         5066           1279          25.25     -250.58       -4.95\n",
            "hu            1              0           0.00       -1.00     -100.00\n",
            "go         5556           5556         100.00    28693.69      516.45\n"
          ]
        }
      ],
      "source": [
        "calc_gains_joue(dr, 'PRED', 0.5)"
      ]
    },
    {
      "cell_type": "code",
      "execution_count": null,
      "metadata": {
        "colab": {
          "base_uri": "https://localhost:8080/"
        },
        "id": "K4lt0zOFpTQA",
        "outputId": "20f58c31-e396-407a-dc10-41377e906e54"
      },
      "outputs": [
        {
          "output_type": "stream",
          "name": "stdout",
          "text": [
            "GAGNANT\n",
            "          joués       corrects     % corrects       gains         roi\n",
            "ia          455             27           5.93     -117.80      -25.89\n",
            "hu            1              0           0.00       -1.00     -100.00\n",
            "go         1463           1463         100.00    28023.50     1915.48\n",
            "\n",
            "PLACE\n",
            "          joués       corrects     % corrects       gains         roi\n",
            "ia          455            101          22.20      -66.67      -14.65\n",
            "hu            1              0           0.00       -1.00     -100.00\n",
            "go         5556           5556         100.00    28693.69      516.45\n"
          ]
        }
      ],
      "source": [
        "calc_gains_course(dr, 'PRED', 0.55)"
      ]
    },
    {
      "cell_type": "markdown",
      "metadata": {
        "id": "wjH66iAKsoy8"
      },
      "source": [
        "## Q1 - Par participation - regression sur gain attendu"
      ]
    },
    {
      "cell_type": "code",
      "execution_count": null,
      "metadata": {
        "id": "F4Bj46X6smOp"
      },
      "outputs": [],
      "source": [
        "numerical_cols = ['CX_PRESENTS','PT_CH_AGE_OD','PT_CORDE_OD','PT_POIDS', 'PT_COTE', 'PT_CH_GAIN_PERYEAR', 'PT_CH_NBCS_WINS', 'PT_CH_NBCS_PLCS', 'PT_CH_NBCS_LOST', 'PT_CH_TX_WIN', 'PT_CH_TX_PLC','PT_CH_POIDS_IFPLC_AVG','PT_CO_TX_WIN']\n",
        "cat_int_cols = [ 'PT_CH_SEXE', 'PT_CH_OEILLERE']\n",
        "cat_str_cols = []\n",
        "non_feature_cols = ['AID_CR', 'AID_PT', 'TG_PLC', 'TG_WIN','TG_PT_GAIN_W','TG_PT_GAIN_P', 'PT_COTE_OD_RAW']\n",
        "features_cols = numerical_cols + cat_int_cols + cat_str_cols\n",
        "sel = all[numerical_cols + non_feature_cols + cat_int_cols + cat_str_cols]"
      ]
    },
    {
      "cell_type": "code",
      "execution_count": null,
      "metadata": {
        "colab": {
          "base_uri": "https://localhost:8080/"
        },
        "id": "1LcxS4sntJUN",
        "outputId": "952d02b7-721d-450f-d4bd-2ef60462a5c6"
      },
      "outputs": [
        {
          "output_type": "stream",
          "name": "stdout",
          "text": [
            "count    512473.000000\n",
            "mean         -0.107336\n",
            "std           2.214351\n",
            "min          -1.000000\n",
            "25%          -1.000000\n",
            "50%          -1.000000\n",
            "75%          -1.000000\n",
            "max         205.650000\n",
            "Name: TARGET, dtype: float64\n"
          ]
        }
      ],
      "source": [
        "df = sel[sel.PT_COTE > 0].copy()\n",
        "df['TARGET'] = df.TG_PT_GAIN_P\n",
        "print(df['TARGET'].describe())"
      ]
    },
    {
      "cell_type": "code",
      "execution_count": null,
      "metadata": {
        "colab": {
          "base_uri": "https://localhost:8080/"
        },
        "id": "i0q7n5R1tr3B",
        "outputId": "cd7c1d24-b813-4355-c384-2cdd4e783003"
      },
      "outputs": [
        {
          "output_type": "stream",
          "name": "stdout",
          "text": [
            "trn : 402889\n",
            "val : 44766\n",
            "tst : 64818\n"
          ]
        }
      ],
      "source": [
        "data = utl.split_seuil(df, 'AID_CR', '17', 0.1)"
      ]
    },
    {
      "cell_type": "code",
      "execution_count": null,
      "metadata": {
        "colab": {
          "base_uri": "https://localhost:8080/"
        },
        "id": "9zSPYdzBx-1d",
        "outputId": "1ce2237a-0893-4fa6-8dc5-aec2693152a2"
      },
      "outputs": [
        {
          "output_type": "stream",
          "name": "stdout",
          "text": [
            "Liste des valeurs à équilibrée sur TG_PLC: \n",
            "{0: 305572, 1: 97317}\n",
            "Valeur cible de l'équilibrage : 305572\n",
            "Liste des valeurs après équilibrage : \n",
            "{0: 305572, 1: 222270}\n"
          ]
        }
      ],
      "source": [
        "data['trn'] = utl.balance(data['trn'], 'TG_PLC', 0.6)"
      ]
    },
    {
      "cell_type": "code",
      "execution_count": null,
      "metadata": {
        "id": "PDGhux36t2Q5"
      },
      "outputs": [],
      "source": [
        "ds_trn, ds_val, ds_tst = to_ds(data, features_cols)\n",
        "all_inputs, encoded_features,_ = create_input_layers(dataset=ds_trn)"
      ]
    },
    {
      "cell_type": "code",
      "execution_count": null,
      "metadata": {
        "id": "mtsIF07-ur4x"
      },
      "outputs": [],
      "source": [
        "all_features = tf.keras.layers.concatenate(encoded_features)\n",
        "x = tf.keras.layers.Dense(128, activation=\"relu\")(all_features)\n",
        "x = tf.keras.layers.Dropout(0.5)(x)\n",
        "x = tf.keras.layers.Dense(32, activation=\"relu\")(x)\n",
        "output = tf.keras.layers.Dense(1)(x)\n",
        "\n",
        "model = tf.keras.Model(all_inputs, output)\n",
        "model.compile(optimizer='sgd', loss=tf.keras.losses.MeanSquaredError()) #-12.03\n",
        "#model.compile(optimizer='sgd', loss=tf.keras.losses.MeanAbsoluteError()) #??\n",
        "#model.compile(optimizer='sgd', loss=tf.keras.losses.MeanAbsolutePercentageError()) #-8.3\n",
        "#model.compile(optimizer='sgd', loss=tf.keras.losses.MeanSquaredLogarithmicError()) #-9.74\n",
        "#model.compile(optimizer='sgd', loss=tf.keras.losses.Huber()) #-8.84\n",
        "#model.compile(optimizer='sgd', loss=tf.keras.losses.LogCosh()) #-9.88\n"
      ]
    },
    {
      "cell_type": "code",
      "execution_count": null,
      "metadata": {
        "colab": {
          "base_uri": "https://localhost:8080/"
        },
        "id": "__jfHa9jvGlp",
        "outputId": "37360772-b289-4ae2-e121-03dea9d8a3d9"
      },
      "outputs": [
        {
          "output_type": "stream",
          "name": "stdout",
          "text": [
            "Epoch 1/5\n",
            "2062/2062 [==============================] - 16s 6ms/step - loss: 7.5734 - val_loss: 5.7231\n",
            "Epoch 2/5\n",
            "2062/2062 [==============================] - 15s 6ms/step - loss: 7.5421 - val_loss: 5.5667\n",
            "Epoch 3/5\n",
            "2062/2062 [==============================] - 15s 6ms/step - loss: 7.5287 - val_loss: 5.6684\n",
            "Epoch 4/5\n",
            "2062/2062 [==============================] - 17s 7ms/step - loss: 7.5202 - val_loss: 5.7214\n",
            "Epoch 5/5\n",
            "2062/2062 [==============================] - 15s 6ms/step - loss: 7.5099 - val_loss: 5.6930\n"
          ]
        }
      ],
      "source": [
        "fit_history = model.fit(ds_trn, epochs=5, validation_data=ds_val)"
      ]
    },
    {
      "cell_type": "code",
      "execution_count": null,
      "metadata": {
        "id": "wWvuiqyGv53Y"
      },
      "outputs": [],
      "source": [
        "plot_metrics(fit_history)"
      ]
    },
    {
      "cell_type": "code",
      "execution_count": null,
      "metadata": {
        "colab": {
          "base_uri": "https://localhost:8080/"
        },
        "id": "r6G1B90ZwM57",
        "outputId": "2e39c561-a5f8-4a5a-cd20-d5455f39a16f"
      },
      "outputs": [
        {
          "output_type": "stream",
          "name": "stderr",
          "text": [
            "/usr/local/lib/python3.7/dist-packages/keras/engine/functional.py:559: UserWarning: Input dict contained keys ['AID_CR', 'AID_PT', 'TG_PLC', 'TG_WIN', 'TG_PT_GAIN_W', 'TG_PT_GAIN_P', 'PT_COTE_OD_RAW', 'TARGET'] which did not match any model input. They will be ignored by the model.\n",
            "  inputs = self._flatten_to_reference_inputs(inputs)\n"
          ]
        }
      ],
      "source": [
        "data['tst']['PRED'] = model.predict(dict(data['tst']))\n",
        "dr = data['tst']\n",
        "dr.PRED.describe()"
      ]
    },
    {
      "cell_type": "code",
      "execution_count": null,
      "metadata": {
        "colab": {
          "base_uri": "https://localhost:8080/"
        },
        "id": "SQToX6RNwczR",
        "outputId": "b0d4d904-526b-42cd-c2ac-c564cf31f374"
      },
      "outputs": [
        {
          "output_type": "stream",
          "name": "stdout",
          "text": [
            "GAGNANT\n",
            "          joués       corrects     % corrects       gains         roi\n",
            "ia        17215           3553          20.64    -2677.10      -15.55\n",
            "hu         5892           1731          29.38     -983.30      -16.69\n",
            "go         5726           5726         100.00    44210.30      772.10\n",
            "\n",
            "PLACE\n",
            "          joués       corrects     % corrects       gains         roi\n",
            "ia        17215           8578          49.83    -1236.00       -7.18\n",
            "hu         5892           3518          59.71     -602.98      -10.23\n",
            "go        16401          16401         100.00    40255.99      245.45\n"
          ]
        }
      ],
      "source": [
        "calc_gains_joue(dr, 'PRED', 0.5)"
      ]
    },
    {
      "cell_type": "code",
      "execution_count": null,
      "metadata": {
        "colab": {
          "base_uri": "https://localhost:8080/"
        },
        "id": "JzdCJA2AwmaJ",
        "outputId": "1884d92a-f1e9-42f6-b5b0-cea1b9e8730f"
      },
      "outputs": [
        {
          "output_type": "stream",
          "name": "stdout",
          "text": [
            "GAGNANT\n",
            "          joués       corrects     % corrects       gains         roi\n",
            "hu         5892           1731          29.38     -983.30      -16.69\n",
            "go         5726           5726         100.00    44210.30      772.10\n",
            "\n",
            "PLACE\n",
            "          joués       corrects     % corrects       gains         roi\n",
            "hu         5892           3518          59.71     -602.98      -10.23\n",
            "go        16401          16401         100.00    40255.99      245.45\n"
          ]
        }
      ],
      "source": [
        "calc_gains_course(dr, 'PRED',1)"
      ]
    },
    {
      "cell_type": "code",
      "source": [
        ""
      ],
      "metadata": {
        "id": "aL_vHPWhNjeQ"
      },
      "execution_count": null,
      "outputs": []
    },
    {
      "cell_type": "markdown",
      "source": [
        "## Q3 TIME SERIES SUR CONDUCTEUR"
      ],
      "metadata": {
        "id": "vc7BzuRKNk0o"
      }
    },
    {
      "cell_type": "code",
      "source": [
        "# selectionne toute participation d'un co\n",
        "# target = ecart entre attendue (PT_OD_COTE_RAW) et résultat (PT_RESULTAT)\n"
      ],
      "metadata": {
        "id": "9Zn7tK9eNq23"
      },
      "execution_count": null,
      "outputs": []
    },
    {
      "cell_type": "code",
      "source": [
        "sel_co = sel[sel.CO_NOM == 'Guyon M.']\n",
        "sel_co"
      ],
      "metadata": {
        "colab": {
          "base_uri": "https://localhost:8080/",
          "height": 661
        },
        "id": "bu24kmq-Phsi",
        "outputId": "186d6ae4-7b16-446d-8f1c-c7b2bf9ae979"
      },
      "execution_count": null,
      "outputs": [
        {
          "output_type": "execute_result",
          "data": {
            "text/plain": [
              "        CX_PRESENTS  PT_CH_AGE_OD  PT_CORDE_OD  PT_POIDS    PT_COTE  \\\n",
              "121              12      1.000000     1.000000      57.5  21.652197   \n",
              "247              13      1.000000     1.000000      53.0  21.652197   \n",
              "248              11      0.333333     1.000000      59.5  21.652197   \n",
              "268              10      1.000000     1.000000      53.5  21.652197   \n",
              "352              18      0.333333     1.000000      59.5  21.652197   \n",
              "...             ...           ...          ...       ...        ...   \n",
              "511775           16      1.000000     0.312500      55.5  13.400000   \n",
              "511783           16      1.000000     0.187500      60.5   5.200000   \n",
              "511800           12      1.000000     0.583333      56.5   7.200000   \n",
              "511825           16      0.200000     0.937500      60.0   4.600000   \n",
              "511849           16      0.500000     0.312500      58.5  12.400000   \n",
              "\n",
              "        PT_CH_GAIN_PERYEAR  PT_CH_NBCS_WINS  PT_CH_NBCS_PLCS  PT_CH_NBCS_LOST  \\\n",
              "121                   0.00                0                0                1   \n",
              "247               19000.00                0                0                1   \n",
              "248               19000.00                0                0                1   \n",
              "268               19000.00                0                0                1   \n",
              "352               19000.00                0                0                1   \n",
              "...                    ...              ...              ...              ...   \n",
              "511775         12358583.33                0                0                4   \n",
              "511783         12366583.33                1                4                0   \n",
              "511800         12384916.67                0                0                3   \n",
              "511825         12384916.67                0                2                0   \n",
              "511849         12384916.67                0                0                4   \n",
              "\n",
              "        PT_CH_TX_WIN  ...      AID_CR         AID_PT  TG_PLC TG_WIN  \\\n",
              "121         0.000000  ...  080103R3C4  080103R3C4P01       1      1   \n",
              "247         0.000000  ...  080105R1C2  080105R1C2P15       0      0   \n",
              "248         0.000000  ...  080105R1C3  080105R1C3P01       0      0   \n",
              "268         0.000000  ...  080105R1C4  080105R1C4P10       0      0   \n",
              "352         0.000000  ...  080105R2C7  080105R2C7P05       0      0   \n",
              "...              ...  ...         ...            ...     ...    ...   \n",
              "511775      0.000000  ...  171226R1C4  171226R1C4P11       1      0   \n",
              "511783      0.222222  ...  171226R1C5  171226R1C5P03       1      0   \n",
              "511800      0.200000  ...  171226R1C6  171226R1C6P04       0      0   \n",
              "511825      0.100000  ...  171226R1C8  171226R1C8P01       0      0   \n",
              "511849      0.000000  ...  171226R1C9  171226R1C9P09       0      0   \n",
              "\n",
              "       TG_PT_GAIN_W  TG_PT_GAIN_P  PT_COTE_OD_RAW    CO_NOM  PT_CH_SEXE  \\\n",
              "121       20.652197      5.163049             1.0  Guyon M.         0.0   \n",
              "247       -1.000000     -1.000000             1.0  Guyon M.         1.0   \n",
              "248       -1.000000     -1.000000             1.0  Guyon M.         0.0   \n",
              "268       -1.000000     -1.000000             1.0  Guyon M.         1.0   \n",
              "352       -1.000000     -1.000000             1.0  Guyon M.         0.0   \n",
              "...             ...           ...             ...       ...         ...   \n",
              "511775    -1.000000      3.100000             6.0  Guyon M.         1.0   \n",
              "511783    -1.000000      1.050000             1.0  Guyon M.         2.0   \n",
              "511800    -1.000000     -1.000000             3.0  Guyon M.         0.0   \n",
              "511825    -1.000000     -1.000000             1.0  Guyon M.         1.0   \n",
              "511849    -1.000000     -1.000000             6.0  Guyon M.         1.0   \n",
              "\n",
              "        PT_CH_OEILLERE  \n",
              "121                  0  \n",
              "247                  0  \n",
              "248                  0  \n",
              "268                  0  \n",
              "352                  0  \n",
              "...                ...  \n",
              "511775               0  \n",
              "511783               1  \n",
              "511800               0  \n",
              "511825               0  \n",
              "511849               0  \n",
              "\n",
              "[9980 rows x 23 columns]"
            ],
            "text/html": [
              "\n",
              "  <div id=\"df-4a3d1699-3b18-4012-ae4a-af219b10677d\">\n",
              "    <div class=\"colab-df-container\">\n",
              "      <div>\n",
              "<style scoped>\n",
              "    .dataframe tbody tr th:only-of-type {\n",
              "        vertical-align: middle;\n",
              "    }\n",
              "\n",
              "    .dataframe tbody tr th {\n",
              "        vertical-align: top;\n",
              "    }\n",
              "\n",
              "    .dataframe thead th {\n",
              "        text-align: right;\n",
              "    }\n",
              "</style>\n",
              "<table border=\"1\" class=\"dataframe\">\n",
              "  <thead>\n",
              "    <tr style=\"text-align: right;\">\n",
              "      <th></th>\n",
              "      <th>CX_PRESENTS</th>\n",
              "      <th>PT_CH_AGE_OD</th>\n",
              "      <th>PT_CORDE_OD</th>\n",
              "      <th>PT_POIDS</th>\n",
              "      <th>PT_COTE</th>\n",
              "      <th>PT_CH_GAIN_PERYEAR</th>\n",
              "      <th>PT_CH_NBCS_WINS</th>\n",
              "      <th>PT_CH_NBCS_PLCS</th>\n",
              "      <th>PT_CH_NBCS_LOST</th>\n",
              "      <th>PT_CH_TX_WIN</th>\n",
              "      <th>...</th>\n",
              "      <th>AID_CR</th>\n",
              "      <th>AID_PT</th>\n",
              "      <th>TG_PLC</th>\n",
              "      <th>TG_WIN</th>\n",
              "      <th>TG_PT_GAIN_W</th>\n",
              "      <th>TG_PT_GAIN_P</th>\n",
              "      <th>PT_COTE_OD_RAW</th>\n",
              "      <th>CO_NOM</th>\n",
              "      <th>PT_CH_SEXE</th>\n",
              "      <th>PT_CH_OEILLERE</th>\n",
              "    </tr>\n",
              "  </thead>\n",
              "  <tbody>\n",
              "    <tr>\n",
              "      <th>121</th>\n",
              "      <td>12</td>\n",
              "      <td>1.000000</td>\n",
              "      <td>1.000000</td>\n",
              "      <td>57.5</td>\n",
              "      <td>21.652197</td>\n",
              "      <td>0.00</td>\n",
              "      <td>0</td>\n",
              "      <td>0</td>\n",
              "      <td>1</td>\n",
              "      <td>0.000000</td>\n",
              "      <td>...</td>\n",
              "      <td>080103R3C4</td>\n",
              "      <td>080103R3C4P01</td>\n",
              "      <td>1</td>\n",
              "      <td>1</td>\n",
              "      <td>20.652197</td>\n",
              "      <td>5.163049</td>\n",
              "      <td>1.0</td>\n",
              "      <td>Guyon M.</td>\n",
              "      <td>0.0</td>\n",
              "      <td>0</td>\n",
              "    </tr>\n",
              "    <tr>\n",
              "      <th>247</th>\n",
              "      <td>13</td>\n",
              "      <td>1.000000</td>\n",
              "      <td>1.000000</td>\n",
              "      <td>53.0</td>\n",
              "      <td>21.652197</td>\n",
              "      <td>19000.00</td>\n",
              "      <td>0</td>\n",
              "      <td>0</td>\n",
              "      <td>1</td>\n",
              "      <td>0.000000</td>\n",
              "      <td>...</td>\n",
              "      <td>080105R1C2</td>\n",
              "      <td>080105R1C2P15</td>\n",
              "      <td>0</td>\n",
              "      <td>0</td>\n",
              "      <td>-1.000000</td>\n",
              "      <td>-1.000000</td>\n",
              "      <td>1.0</td>\n",
              "      <td>Guyon M.</td>\n",
              "      <td>1.0</td>\n",
              "      <td>0</td>\n",
              "    </tr>\n",
              "    <tr>\n",
              "      <th>248</th>\n",
              "      <td>11</td>\n",
              "      <td>0.333333</td>\n",
              "      <td>1.000000</td>\n",
              "      <td>59.5</td>\n",
              "      <td>21.652197</td>\n",
              "      <td>19000.00</td>\n",
              "      <td>0</td>\n",
              "      <td>0</td>\n",
              "      <td>1</td>\n",
              "      <td>0.000000</td>\n",
              "      <td>...</td>\n",
              "      <td>080105R1C3</td>\n",
              "      <td>080105R1C3P01</td>\n",
              "      <td>0</td>\n",
              "      <td>0</td>\n",
              "      <td>-1.000000</td>\n",
              "      <td>-1.000000</td>\n",
              "      <td>1.0</td>\n",
              "      <td>Guyon M.</td>\n",
              "      <td>0.0</td>\n",
              "      <td>0</td>\n",
              "    </tr>\n",
              "    <tr>\n",
              "      <th>268</th>\n",
              "      <td>10</td>\n",
              "      <td>1.000000</td>\n",
              "      <td>1.000000</td>\n",
              "      <td>53.5</td>\n",
              "      <td>21.652197</td>\n",
              "      <td>19000.00</td>\n",
              "      <td>0</td>\n",
              "      <td>0</td>\n",
              "      <td>1</td>\n",
              "      <td>0.000000</td>\n",
              "      <td>...</td>\n",
              "      <td>080105R1C4</td>\n",
              "      <td>080105R1C4P10</td>\n",
              "      <td>0</td>\n",
              "      <td>0</td>\n",
              "      <td>-1.000000</td>\n",
              "      <td>-1.000000</td>\n",
              "      <td>1.0</td>\n",
              "      <td>Guyon M.</td>\n",
              "      <td>1.0</td>\n",
              "      <td>0</td>\n",
              "    </tr>\n",
              "    <tr>\n",
              "      <th>352</th>\n",
              "      <td>18</td>\n",
              "      <td>0.333333</td>\n",
              "      <td>1.000000</td>\n",
              "      <td>59.5</td>\n",
              "      <td>21.652197</td>\n",
              "      <td>19000.00</td>\n",
              "      <td>0</td>\n",
              "      <td>0</td>\n",
              "      <td>1</td>\n",
              "      <td>0.000000</td>\n",
              "      <td>...</td>\n",
              "      <td>080105R2C7</td>\n",
              "      <td>080105R2C7P05</td>\n",
              "      <td>0</td>\n",
              "      <td>0</td>\n",
              "      <td>-1.000000</td>\n",
              "      <td>-1.000000</td>\n",
              "      <td>1.0</td>\n",
              "      <td>Guyon M.</td>\n",
              "      <td>0.0</td>\n",
              "      <td>0</td>\n",
              "    </tr>\n",
              "    <tr>\n",
              "      <th>...</th>\n",
              "      <td>...</td>\n",
              "      <td>...</td>\n",
              "      <td>...</td>\n",
              "      <td>...</td>\n",
              "      <td>...</td>\n",
              "      <td>...</td>\n",
              "      <td>...</td>\n",
              "      <td>...</td>\n",
              "      <td>...</td>\n",
              "      <td>...</td>\n",
              "      <td>...</td>\n",
              "      <td>...</td>\n",
              "      <td>...</td>\n",
              "      <td>...</td>\n",
              "      <td>...</td>\n",
              "      <td>...</td>\n",
              "      <td>...</td>\n",
              "      <td>...</td>\n",
              "      <td>...</td>\n",
              "      <td>...</td>\n",
              "      <td>...</td>\n",
              "    </tr>\n",
              "    <tr>\n",
              "      <th>511775</th>\n",
              "      <td>16</td>\n",
              "      <td>1.000000</td>\n",
              "      <td>0.312500</td>\n",
              "      <td>55.5</td>\n",
              "      <td>13.400000</td>\n",
              "      <td>12358583.33</td>\n",
              "      <td>0</td>\n",
              "      <td>0</td>\n",
              "      <td>4</td>\n",
              "      <td>0.000000</td>\n",
              "      <td>...</td>\n",
              "      <td>171226R1C4</td>\n",
              "      <td>171226R1C4P11</td>\n",
              "      <td>1</td>\n",
              "      <td>0</td>\n",
              "      <td>-1.000000</td>\n",
              "      <td>3.100000</td>\n",
              "      <td>6.0</td>\n",
              "      <td>Guyon M.</td>\n",
              "      <td>1.0</td>\n",
              "      <td>0</td>\n",
              "    </tr>\n",
              "    <tr>\n",
              "      <th>511783</th>\n",
              "      <td>16</td>\n",
              "      <td>1.000000</td>\n",
              "      <td>0.187500</td>\n",
              "      <td>60.5</td>\n",
              "      <td>5.200000</td>\n",
              "      <td>12366583.33</td>\n",
              "      <td>1</td>\n",
              "      <td>4</td>\n",
              "      <td>0</td>\n",
              "      <td>0.222222</td>\n",
              "      <td>...</td>\n",
              "      <td>171226R1C5</td>\n",
              "      <td>171226R1C5P03</td>\n",
              "      <td>1</td>\n",
              "      <td>0</td>\n",
              "      <td>-1.000000</td>\n",
              "      <td>1.050000</td>\n",
              "      <td>1.0</td>\n",
              "      <td>Guyon M.</td>\n",
              "      <td>2.0</td>\n",
              "      <td>1</td>\n",
              "    </tr>\n",
              "    <tr>\n",
              "      <th>511800</th>\n",
              "      <td>12</td>\n",
              "      <td>1.000000</td>\n",
              "      <td>0.583333</td>\n",
              "      <td>56.5</td>\n",
              "      <td>7.200000</td>\n",
              "      <td>12384916.67</td>\n",
              "      <td>0</td>\n",
              "      <td>0</td>\n",
              "      <td>3</td>\n",
              "      <td>0.200000</td>\n",
              "      <td>...</td>\n",
              "      <td>171226R1C6</td>\n",
              "      <td>171226R1C6P04</td>\n",
              "      <td>0</td>\n",
              "      <td>0</td>\n",
              "      <td>-1.000000</td>\n",
              "      <td>-1.000000</td>\n",
              "      <td>3.0</td>\n",
              "      <td>Guyon M.</td>\n",
              "      <td>0.0</td>\n",
              "      <td>0</td>\n",
              "    </tr>\n",
              "    <tr>\n",
              "      <th>511825</th>\n",
              "      <td>16</td>\n",
              "      <td>0.200000</td>\n",
              "      <td>0.937500</td>\n",
              "      <td>60.0</td>\n",
              "      <td>4.600000</td>\n",
              "      <td>12384916.67</td>\n",
              "      <td>0</td>\n",
              "      <td>2</td>\n",
              "      <td>0</td>\n",
              "      <td>0.100000</td>\n",
              "      <td>...</td>\n",
              "      <td>171226R1C8</td>\n",
              "      <td>171226R1C8P01</td>\n",
              "      <td>0</td>\n",
              "      <td>0</td>\n",
              "      <td>-1.000000</td>\n",
              "      <td>-1.000000</td>\n",
              "      <td>1.0</td>\n",
              "      <td>Guyon M.</td>\n",
              "      <td>1.0</td>\n",
              "      <td>0</td>\n",
              "    </tr>\n",
              "    <tr>\n",
              "      <th>511849</th>\n",
              "      <td>16</td>\n",
              "      <td>0.500000</td>\n",
              "      <td>0.312500</td>\n",
              "      <td>58.5</td>\n",
              "      <td>12.400000</td>\n",
              "      <td>12384916.67</td>\n",
              "      <td>0</td>\n",
              "      <td>0</td>\n",
              "      <td>4</td>\n",
              "      <td>0.000000</td>\n",
              "      <td>...</td>\n",
              "      <td>171226R1C9</td>\n",
              "      <td>171226R1C9P09</td>\n",
              "      <td>0</td>\n",
              "      <td>0</td>\n",
              "      <td>-1.000000</td>\n",
              "      <td>-1.000000</td>\n",
              "      <td>6.0</td>\n",
              "      <td>Guyon M.</td>\n",
              "      <td>1.0</td>\n",
              "      <td>0</td>\n",
              "    </tr>\n",
              "  </tbody>\n",
              "</table>\n",
              "<p>9980 rows × 23 columns</p>\n",
              "</div>\n",
              "      <button class=\"colab-df-convert\" onclick=\"convertToInteractive('df-4a3d1699-3b18-4012-ae4a-af219b10677d')\"\n",
              "              title=\"Convert this dataframe to an interactive table.\"\n",
              "              style=\"display:none;\">\n",
              "        \n",
              "  <svg xmlns=\"http://www.w3.org/2000/svg\" height=\"24px\"viewBox=\"0 0 24 24\"\n",
              "       width=\"24px\">\n",
              "    <path d=\"M0 0h24v24H0V0z\" fill=\"none\"/>\n",
              "    <path d=\"M18.56 5.44l.94 2.06.94-2.06 2.06-.94-2.06-.94-.94-2.06-.94 2.06-2.06.94zm-11 1L8.5 8.5l.94-2.06 2.06-.94-2.06-.94L8.5 2.5l-.94 2.06-2.06.94zm10 10l.94 2.06.94-2.06 2.06-.94-2.06-.94-.94-2.06-.94 2.06-2.06.94z\"/><path d=\"M17.41 7.96l-1.37-1.37c-.4-.4-.92-.59-1.43-.59-.52 0-1.04.2-1.43.59L10.3 9.45l-7.72 7.72c-.78.78-.78 2.05 0 2.83L4 21.41c.39.39.9.59 1.41.59.51 0 1.02-.2 1.41-.59l7.78-7.78 2.81-2.81c.8-.78.8-2.07 0-2.86zM5.41 20L4 18.59l7.72-7.72 1.47 1.35L5.41 20z\"/>\n",
              "  </svg>\n",
              "      </button>\n",
              "      \n",
              "  <style>\n",
              "    .colab-df-container {\n",
              "      display:flex;\n",
              "      flex-wrap:wrap;\n",
              "      gap: 12px;\n",
              "    }\n",
              "\n",
              "    .colab-df-convert {\n",
              "      background-color: #E8F0FE;\n",
              "      border: none;\n",
              "      border-radius: 50%;\n",
              "      cursor: pointer;\n",
              "      display: none;\n",
              "      fill: #1967D2;\n",
              "      height: 32px;\n",
              "      padding: 0 0 0 0;\n",
              "      width: 32px;\n",
              "    }\n",
              "\n",
              "    .colab-df-convert:hover {\n",
              "      background-color: #E2EBFA;\n",
              "      box-shadow: 0px 1px 2px rgba(60, 64, 67, 0.3), 0px 1px 3px 1px rgba(60, 64, 67, 0.15);\n",
              "      fill: #174EA6;\n",
              "    }\n",
              "\n",
              "    [theme=dark] .colab-df-convert {\n",
              "      background-color: #3B4455;\n",
              "      fill: #D2E3FC;\n",
              "    }\n",
              "\n",
              "    [theme=dark] .colab-df-convert:hover {\n",
              "      background-color: #434B5C;\n",
              "      box-shadow: 0px 1px 3px 1px rgba(0, 0, 0, 0.15);\n",
              "      filter: drop-shadow(0px 1px 2px rgba(0, 0, 0, 0.3));\n",
              "      fill: #FFFFFF;\n",
              "    }\n",
              "  </style>\n",
              "\n",
              "      <script>\n",
              "        const buttonEl =\n",
              "          document.querySelector('#df-4a3d1699-3b18-4012-ae4a-af219b10677d button.colab-df-convert');\n",
              "        buttonEl.style.display =\n",
              "          google.colab.kernel.accessAllowed ? 'block' : 'none';\n",
              "\n",
              "        async function convertToInteractive(key) {\n",
              "          const element = document.querySelector('#df-4a3d1699-3b18-4012-ae4a-af219b10677d');\n",
              "          const dataTable =\n",
              "            await google.colab.kernel.invokeFunction('convertToInteractive',\n",
              "                                                     [key], {});\n",
              "          if (!dataTable) return;\n",
              "\n",
              "          const docLinkHtml = 'Like what you see? Visit the ' +\n",
              "            '<a target=\"_blank\" href=https://colab.research.google.com/notebooks/data_table.ipynb>data table notebook</a>'\n",
              "            + ' to learn more about interactive tables.';\n",
              "          element.innerHTML = '';\n",
              "          dataTable['output_type'] = 'display_data';\n",
              "          await google.colab.output.renderOutput(dataTable, element);\n",
              "          const docLink = document.createElement('div');\n",
              "          docLink.innerHTML = docLinkHtml;\n",
              "          element.appendChild(docLink);\n",
              "        }\n",
              "      </script>\n",
              "    </div>\n",
              "  </div>\n",
              "  "
            ]
          },
          "metadata": {},
          "execution_count": 31
        }
      ]
    },
    {
      "cell_type": "code",
      "source": [
        "class WindowGenerator():\n",
        "  def __init__(self, input_width, label_width, shift,\n",
        "               train_df=train_df, val_df=val_df, test_df=test_df,\n",
        "               label_columns=None):\n",
        "    # Store the raw data.\n",
        "    self.train_df = train_df\n",
        "    self.val_df = val_df\n",
        "    self.test_df = test_df\n",
        "\n",
        "    # Work out the label column indices.\n",
        "    self.label_columns = label_columns\n",
        "    if label_columns is not None:\n",
        "      self.label_columns_indices = {name: i for i, name in\n",
        "                                    enumerate(label_columns)}\n",
        "    self.column_indices = {name: i for i, name in\n",
        "                           enumerate(train_df.columns)}\n",
        "\n",
        "    # Work out the window parameters.\n",
        "    self.input_width = input_width\n",
        "    self.label_width = label_width\n",
        "    self.shift = shift\n",
        "\n",
        "    self.total_window_size = input_width + shift\n",
        "\n",
        "    self.input_slice = slice(0, input_width)\n",
        "    self.input_indices = np.arange(self.total_window_size)[self.input_slice]\n",
        "\n",
        "    self.label_start = self.total_window_size - self.label_width\n",
        "    self.labels_slice = slice(self.label_start, None)\n",
        "    self.label_indices = np.arange(self.total_window_size)[self.labels_slice]\n",
        "\n",
        "  def __repr__(self):\n",
        "    return '\\n'.join([\n",
        "        f'Total window size: {self.total_window_size}',\n",
        "        f'Input indices: {self.input_indices}',\n",
        "        f'Label indices: {self.label_indices}',\n",
        "        f'Label column name(s): {self.label_columns}'])\n"
      ],
      "metadata": {
        "id": "LBM1K__HQvqT"
      },
      "execution_count": null,
      "outputs": []
    }
  ],
  "metadata": {
    "colab": {
      "collapsed_sections": [
        "F-HU3RsKRe4K",
        "GHDyR72Iiekb"
      ],
      "name": "TF2.ipynb",
      "provenance": [],
      "authorship_tag": "ABX9TyP8fyhaF1PgyjcibArSfCGO",
      "include_colab_link": true
    },
    "kernelspec": {
      "display_name": "Python 3",
      "name": "python3"
    },
    "language_info": {
      "name": "python"
    }
  },
  "nbformat": 4,
  "nbformat_minor": 0
}